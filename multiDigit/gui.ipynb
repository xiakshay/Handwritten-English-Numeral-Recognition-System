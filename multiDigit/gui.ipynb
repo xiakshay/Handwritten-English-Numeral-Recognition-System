{
 "cells": [
  {
   "cell_type": "code",
   "execution_count": 1,
   "metadata": {
    "collapsed": true
   },
   "outputs": [],
   "source": [
    "import pandas as pd\n",
    "import numpy as np\n",
    "import matplotlib.pyplot as plt\n",
    "from tensorflow.keras.models import load_model\n",
    "\n",
    "from tkinter import *\n",
    "import tkinter as tk\n",
    "import win32gui\n",
    "from PIL import ImageGrab, Image\n"
   ]
  },
  {
   "cell_type": "code",
   "execution_count": 4,
   "outputs": [],
   "source": [
    "model = load_model('mnist-2-2.h5')\n"
   ],
   "metadata": {
    "collapsed": false,
    "pycharm": {
     "name": "#%%\n"
    }
   }
  },
  {
   "cell_type": "code",
   "execution_count": 5,
   "outputs": [],
   "source": [
    "\n",
    "def predict_digit(img):\n",
    "    #resize image to 56x28 pixels\n",
    "    img = img.resize((56,28))\n",
    "\n",
    "    #convert rgb to grayscale\n",
    "    img = img.convert('L')\n",
    "    img = np.array(img)\n",
    "\n",
    "    #     print('Image to be predicted...')\n",
    "    #     plt.imshow(img, cmap = 'gray')\n",
    "    #     plt.show()\n",
    "\n",
    "    #reshaping to support our model input and normalizing\n",
    "    img = img.reshape(1,28,56,1).astype(float)\n",
    "    img = img/255.0\n",
    "\n",
    "\n",
    "    #predicting the class\n",
    "    #     the model predicts in batches, since we are just inferencing on one image threfore we just take the first array of\n",
    "    #     ouptut in our variable 'res'.\n",
    "    res = model.predict([img])[0]\n",
    "    indices = res.argsort()[-2:][::-1]\n",
    "    res = [(indices[0], res[indices[0]]), (indices[1], res[indices[1]])]\n",
    "    return res[0], res[1]\n",
    "\n",
    "class App(tk.Tk):\n",
    "    def __init__(self):\n",
    "        tk.Tk.__init__(self)\n",
    "\n",
    "        self.x = self.y = 0\n",
    "\n",
    "        # Creating elements\n",
    "        self.title('Handwritten Digit Recognition')\n",
    "        self.canvas = tk.Canvas(self, width=500, height=400, bg = 'black', cursor=\"cross\")\n",
    "        self.label1 = tk.Label(self, text=\"Draw..\", font=(\"Helvetica\", 48))\n",
    "\n",
    "        self.label2 = tk.Label(self, text=\"Draw..\", font=(\"Helvetica\", 48))\n",
    "\n",
    "        self.classify_btn = tk.Button(self, text = \"Recognise\", command = self.classify_handwriting)\n",
    "        self.button_clear = tk.Button(self, text = \"Clear\", command = self.clear_all)\n",
    "\n",
    "        # Grid structure\n",
    "        self.canvas.grid(row=0, column=0, pady=0, sticky=W, rowspan = 2)\n",
    "        self.label1.grid(row=0, column=1,pady=0, padx=0)\n",
    "\n",
    "        self.label2.grid(row = 1, column = 1, pady = 0, padx = 0)\n",
    "\n",
    "        self.classify_btn.grid(row=2, column=1, pady=2, padx=2)\n",
    "        self.button_clear.grid(row=2, column=0, pady=2)\n",
    "\n",
    "        self.canvas.bind(\"<B1-Motion>\", self.draw_lines) # event handler for mouse events\n",
    "\n",
    "    def clear_all(self):\n",
    "        self.canvas.delete(\"all\")\n",
    "\n",
    "    def classify_handwriting(self):\n",
    "        # code to convert drawing on canvas to an image\n",
    "        HWND = self.canvas.winfo_id()        # get the handle of the canvas\n",
    "        rect = win32gui.GetWindowRect(HWND)  # get the coordinate of the canvas\n",
    "        a,b,c,d = rect\n",
    "        rect=(a+4, b+4, c-4, d-4)            # padding to the image\n",
    "        im = ImageGrab.grab(rect)\n",
    "\n",
    "        # predict what the image is...\n",
    "        class_1, class_2 = predict_digit(im)\n",
    "        digit_1, acc_1 = class_1      #it holds the larger variable class_1\n",
    "        digit_2, acc_2 = class_2\n",
    "\n",
    "        self.label1.configure(text = str(digit_1)+ ',' + str(int(acc_1 * 100)) + '%\\n')\n",
    "        if acc_2 > 0.1:\n",
    "            self.label2.configure(text = str(digit_2)+ ',' + str(int(acc_2 * 100)) + '%\\n')\n",
    "        else:\n",
    "            self.label2.configure(text = '!')\n",
    "\n",
    "    def draw_lines(self, event):\n",
    "        # draw on the canvas\n",
    "        self.x = event.x\n",
    "        self.y = event.y\n",
    "        r= 9                                # control the width of strokes\n",
    "        self.canvas.create_oval(self.x+r, self.y+r, self.x - r, self.y - r, fill='white',outline = 'white')\n",
    "\n",
    "app = App()\n",
    "mainloop()"
   ],
   "metadata": {
    "collapsed": false,
    "pycharm": {
     "name": "#%%\n"
    }
   }
  },
  {
   "cell_type": "code",
   "execution_count": null,
   "outputs": [],
   "source": [],
   "metadata": {
    "collapsed": false,
    "pycharm": {
     "name": "#%%\n"
    }
   }
  }
 ],
 "metadata": {
  "kernelspec": {
   "display_name": "Python 3",
   "language": "python",
   "name": "python3"
  },
  "language_info": {
   "codemirror_mode": {
    "name": "ipython",
    "version": 2
   },
   "file_extension": ".py",
   "mimetype": "text/x-python",
   "name": "python",
   "nbconvert_exporter": "python",
   "pygments_lexer": "ipython2",
   "version": "2.7.6"
  }
 },
 "nbformat": 4,
 "nbformat_minor": 0
}