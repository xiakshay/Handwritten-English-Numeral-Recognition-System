{
 "cells": [
  {
   "cell_type": "code",
   "execution_count": 7,
   "metadata": {
    "collapsed": true
   },
   "outputs": [],
   "source": [
    "import tensorflow as tf\n",
    "import numpy as np\n",
    "import pandas as pd\n",
    "import cv2\n",
    "#from google.colab.patches import cv2_imshow\n",
    "import matplotlib.pyplot as plt\n",
    "from tensorflow.keras.utils import to_categorical\n",
    "from sklearn.model_selection import train_test_split\n",
    "from sklearn.preprocessing import MultiLabelBinarizer\n",
    "from tensorflow.keras.utils import plot_model\n",
    "from tensorflow.keras.preprocessing.image import ImageDataGenerator\n",
    "\n",
    "from tensorflow.keras.layers import Dense, Conv2D, MaxPooling2D, Input, Flatten, Dropout, Add, Activation\n",
    "from tensorflow.keras.models import Model\n",
    "from tensorflow.keras.optimizers import Adam, SGD"
   ]
  },
  {
   "cell_type": "code",
   "execution_count": 8,
   "outputs": [],
   "source": [
    "def create_dataset(dataset_size):\n",
    "    '''\n",
    "    Function to create dataset for multi label classification by horizontally stacking two images.\n",
    "    Parameters:\n",
    "            dataset_size = size of the dataset to be created\n",
    "    Returns : New dataset with two classes in one image and size of the returned dataset will not match with dataset_size variable, since we drop few images.\n",
    "    '''\n",
    "    mnist = tf.keras.datasets.mnist\n",
    "    (x_train, y_train), (x_test, y_test) = mnist.load_data()\n",
    "\n",
    "    x = np.concatenate((x_train, x_test), axis = 0) #contatenating both train and test dataset to create one large dataset.\n",
    "    y = np.concatenate((y_train, y_test))\n",
    "    print('Shape of the dataset after concatinating:')\n",
    "    print(x.shape, y.shape)\n",
    "\n",
    "    x_new = []\n",
    "    y_new = []\n",
    "    no_of_removes = 0\n",
    "    for _ in range(dataset_size):\n",
    "        indices = np.random.randint(0, 70000, size = 2) #randomly selecting two indices for stacking.\n",
    "\n",
    "        ans1, ans2 = y[indices[0]], y[indices[1]]\n",
    "\n",
    "        if ans1 == ans2:  # check if both the images have same target, if yes then skip that example and donot add it to the dataset. Although this\n",
    "            # should not effect the model's performance but still for sanity check.\n",
    "            no_of_removes +=1\n",
    "            pass\n",
    "        else:\n",
    "            new_image = np.concatenate((x[indices[0]], x[indices[1]]), axis = 1)\n",
    "            x_new.append(new_image)\n",
    "\n",
    "\n",
    "            # new_y = [1 if z == ans1 or z == ans2 else 0 for z in range(10)]\n",
    "            y_new.append((ans1, ans2))\n",
    "\n",
    "    print(f'No of examples removed from dataset: {no_of_removes}')\n",
    "    return x_new, y_new"
   ],
   "metadata": {
    "collapsed": false,
    "pycharm": {
     "name": "#%%\n"
    }
   }
  },
  {
   "cell_type": "code",
   "execution_count": 9,
   "outputs": [
    {
     "name": "stdout",
     "output_type": "stream",
     "text": [
      "Shape of the dataset after concatinating:\n",
      "(70000, 28, 28) (70000,)\n",
      "No of examples removed from dataset: 1986\n"
     ]
    }
   ],
   "source": [
    "dataset_size = 20000\n",
    "x, y = create_dataset(dataset_size)"
   ],
   "metadata": {
    "collapsed": false,
    "pycharm": {
     "name": "#%%\n"
    }
   }
  },
  {
   "cell_type": "code",
   "execution_count": 11,
   "outputs": [
    {
     "name": "stdout",
     "output_type": "stream",
     "text": [
      "(3, 5)\n"
     ]
    },
    {
     "data": {
      "text/plain": "<Figure size 432x288 with 1 Axes>",
      "image/png": "[encoded data removed]"
     },
     "metadata": {
      "needs_background": "light"
     },
     "output_type": "display_data"
    }
   ],
   "source": [
    "random = np.random.randint(dataset_size)\n",
    "plt.imshow(x[random], cmap = 'gray')\n",
    "print(y[random])"
   ],
   "metadata": {
    "collapsed": false,
    "pycharm": {
     "name": "#%%\n"
    }
   }
  },
  {
   "cell_type": "code",
   "execution_count": 12,
   "outputs": [],
   "source": [
    "def ml_split(x, y):\n",
    "    '''\n",
    "    Multi hot encode the target variable and divide the data into train, validation and test data.\n",
    "    '''\n",
    "    # ml = MultiLabelBinarizer()\n",
    "    # y = ml.fit_transform(y)\n",
    "\n",
    "    X_train, X_valid, y_train, y_valid = train_test_split(x, y, test_size=0.20, random_state=42)\n",
    "    X_train, X_test, y_train, y_test = train_test_split(X_train, y_train, test_size = 0.2, random_state = 42)\n",
    "\n",
    "    ml = MultiLabelBinarizer()\n",
    "    y_train = ml.fit_transform(y_train)\n",
    "    y_valid = ml.transform(y_valid)\n",
    "    y_test = ml.transform(y_test)\n",
    "\n",
    "    return X_train, y_train, X_valid, y_valid, X_test, y_test"
   ],
   "metadata": {
    "collapsed": false,
    "pycharm": {
     "name": "#%%\n"
    }
   }
  },
  {
   "cell_type": "code",
   "execution_count": 13,
   "outputs": [],
   "source": [
    "X_train, y_train, X_valid, y_valid, X_test, y_test = ml_split(x, y)"
   ],
   "metadata": {
    "collapsed": false,
    "pycharm": {
     "name": "#%%\n"
    }
   }
  },
  {
   "cell_type": "code",
   "execution_count": 14,
   "outputs": [],
   "source": [
    "def print_shapes():\n",
    "    print('Shapes of dataset:')\n",
    "    print('Training dataset:')\n",
    "    print(X_train.shape, y_train.shape)\n",
    "    print('\\nValidation dataset:')\n",
    "    print(X_valid.shape, y_valid.shape)\n",
    "    print('\\nTesting dataset:')\n",
    "    print(X_test.shape, y_test.shape)"
   ],
   "metadata": {
    "collapsed": false,
    "pycharm": {
     "name": "#%%\n"
    }
   }
  },
  {
   "cell_type": "code",
   "execution_count": 15,
   "outputs": [],
   "source": [
    "def format_input(features, labels):\n",
    "    '''\n",
    "    convert the numpy array (images), labels to tensor objects for training, add the channel dimension to the images.\n",
    "    '''\n",
    "    features = tf.convert_to_tensor(features)\n",
    "    features = tf.expand_dims(features, axis = -1)\n",
    "\n",
    "    labels = tf.convert_to_tensor(labels)\n",
    "\n",
    "    return features, labels"
   ],
   "metadata": {
    "collapsed": false,
    "pycharm": {
     "name": "#%%\n"
    }
   }
  },
  {
   "cell_type": "code",
   "execution_count": 16,
   "outputs": [
    {
     "name": "stdout",
     "output_type": "stream",
     "text": [
      "Shapes of dataset:\n",
      "Training dataset:\n",
      "(11528, 28, 56, 1) (11528, 10)\n",
      "\n",
      "Validation dataset:\n",
      "(3603, 28, 56, 1) (3603, 10)\n",
      "\n",
      "Testing dataset:\n",
      "(2883, 28, 56, 1) (2883, 10)\n"
     ]
    }
   ],
   "source": [
    "X_train, y_train = format_input(X_train, y_train)\n",
    "X_valid, y_valid = format_input(X_valid, y_valid)\n",
    "X_test, y_test = format_input(X_test, y_test)\n",
    "\n",
    "print_shapes()"
   ],
   "metadata": {
    "collapsed": false,
    "pycharm": {
     "name": "#%%\n"
    }
   }
  },
  {
   "cell_type": "code",
   "execution_count": 17,
   "outputs": [],
   "source": [
    "def create_generator(bath_size):\n",
    "    '''\n",
    "    Creating generators for augmenting (none is mentioned right now), reshaping the data and for easy flow of data to the model.\n",
    "    '''\n",
    "    train_datagen = ImageDataGenerator(rescale = 1.0/255.0, dtype = 'float')\n",
    "\n",
    "    valid_datagen = ImageDataGenerator(rescale = 1.0/255., dtype = 'float')\n",
    "\n",
    "    train_generator = train_datagen.flow(X_train, y_train, batch_size=batch_size, shuffle = True, seed = 42)\n",
    "    valid_generator = valid_datagen.flow(X_valid, y_valid, batch_size=batch_size, seed = 42)\n",
    "    test_generator = valid_datagen.flow(X_test, y_test, batch_size=batch_size, seed = 42)\n",
    "\n",
    "    return train_generator, valid_generator, test_generator"
   ],
   "metadata": {
    "collapsed": false,
    "pycharm": {
     "name": "#%%\n"
    }
   }
  },
  {
   "cell_type": "code",
   "execution_count": 18,
   "outputs": [],
   "source": [
    "batch_size = 128\n",
    "train_generator, valid_generator, test_generator = create_generator(batch_size)"
   ],
   "metadata": {
    "collapsed": false,
    "pycharm": {
     "name": "#%%\n"
    }
   }
  },
  {
   "cell_type": "code",
   "execution_count": 19,
   "outputs": [],
   "source": [
    "# define cnn model\n",
    "def define_model(shape=(28, 56, 1), num_classes=10):\n",
    "    '''\n",
    "    Function to create model.\n",
    "    '''\n",
    "    model = tf.keras.models.Sequential()\n",
    "    model.add(Conv2D(32, (3, 3), padding='same', input_shape=shape))\n",
    "    model.add(Activation('relu'))\n",
    "    model.add(Conv2D(32, (3, 3), padding='same'))\n",
    "    model.add(MaxPooling2D((2, 2)))\n",
    "    # model.add(Dropout(0.2))\n",
    "    model.add(Activation('relu'))\n",
    "    model.add(Conv2D(64, (3, 3), padding='same'))\n",
    "    model.add(Conv2D(64, (3, 3), padding='same'))\n",
    "    model.add(MaxPooling2D((2, 2)))\n",
    "    model.add(Activation('relu'))\n",
    "    # model.add(Dropout(0.2))\n",
    "    model.add(Conv2D(128, (3, 3), padding='same'))\n",
    "    model.add(Conv2D(128, (3, 3), padding='same'))\n",
    "    model.add(MaxPooling2D((2, 2)))\n",
    "    model.add(Activation('relu'))\n",
    "    # model.add(Dropout(0.2))\n",
    "    model.add(Conv2D(256, (3, 3), padding='same'))\n",
    "    model.add(Conv2D(256, (3, 3), padding='same'))\n",
    "    model.add(MaxPooling2D((2, 2)))\n",
    "    model.add(Activation('relu'))\n",
    "\n",
    "    model.add(Flatten())\n",
    "    # model.add(Dense(512, kernel_initializer='he_uniform'))\n",
    "    # model.add(Activation('relu'))\n",
    "    # model.add(Dense(256, kernel_initializer='he_uniform'))\n",
    "    # model.add(Activation('relu'))\n",
    "    model.add(Dense(128, activation = 'relu'))\n",
    "    model.add(Dense(64, activation = 'relu'))\n",
    "    # model.add(Dropout(0.5))\n",
    "    model.add(Dense(num_classes, activation='sigmoid'))\n",
    "\n",
    "    return model\n",
    "\n",
    "model = define_model()"
   ],
   "metadata": {
    "collapsed": false,
    "pycharm": {
     "name": "#%%\n"
    }
   }
  },
  {
   "cell_type": "code",
   "execution_count": 20,
   "outputs": [
    {
     "name": "stdout",
     "output_type": "stream",
     "text": [
      "Model: \"sequential\"\n",
      "_________________________________________________________________\n",
      " Layer (type)                Output Shape              Param #   \n",
      "=================================================================\n",
      " conv2d (Conv2D)             (None, 28, 56, 32)        320       \n",
      "                                                                 \n",
      " activation (Activation)     (None, 28, 56, 32)        0         \n",
      "                                                                 \n",
      " conv2d_1 (Conv2D)           (None, 28, 56, 32)        9248      \n",
      "                                                                 \n",
      " max_pooling2d (MaxPooling2D  (None, 14, 28, 32)       0         \n",
      " )                                                               \n",
      "                                                                 \n",
      " activation_1 (Activation)   (None, 14, 28, 32)        0         \n",
      "                                                                 \n",
      " conv2d_2 (Conv2D)           (None, 14, 28, 64)        18496     \n",
      "                                                                 \n",
      " conv2d_3 (Conv2D)           (None, 14, 28, 64)        36928     \n",
      "                                                                 \n",
      " max_pooling2d_1 (MaxPooling  (None, 7, 14, 64)        0         \n",
      " 2D)                                                             \n",
      "                                                                 \n",
      " activation_2 (Activation)   (None, 7, 14, 64)         0         \n",
      "                                                                 \n",
      " conv2d_4 (Conv2D)           (None, 7, 14, 128)        73856     \n",
      "                                                                 \n",
      " conv2d_5 (Conv2D)           (None, 7, 14, 128)        147584    \n",
      "                                                                 \n",
      " max_pooling2d_2 (MaxPooling  (None, 3, 7, 128)        0         \n",
      " 2D)                                                             \n",
      "                                                                 \n",
      " activation_3 (Activation)   (None, 3, 7, 128)         0         \n",
      "                                                                 \n",
      " conv2d_6 (Conv2D)           (None, 3, 7, 256)         295168    \n",
      "                                                                 \n",
      " conv2d_7 (Conv2D)           (None, 3, 7, 256)         590080    \n",
      "                                                                 \n",
      " max_pooling2d_3 (MaxPooling  (None, 1, 3, 256)        0         \n",
      " 2D)                                                             \n",
      "                                                                 \n",
      " activation_4 (Activation)   (None, 1, 3, 256)         0         \n",
      "                                                                 \n",
      " flatten (Flatten)           (None, 768)               0         \n",
      "                                                                 \n",
      " dense (Dense)               (None, 128)               98432     \n",
      "                                                                 \n",
      " dense_1 (Dense)             (None, 64)                8256      \n",
      "                                                                 \n",
      " dense_2 (Dense)             (None, 10)                650       \n",
      "                                                                 \n",
      "=================================================================\n",
      "Total params: 1,279,018\n",
      "Trainable params: 1,279,018\n",
      "Non-trainable params: 0\n",
      "_________________________________________________________________\n"
     ]
    }
   ],
   "source": [
    "model.summary()"
   ],
   "metadata": {
    "collapsed": false,
    "pycharm": {
     "name": "#%%\n"
    }
   }
  },
  {
   "cell_type": "code",
   "execution_count": 21,
   "outputs": [
    {
     "name": "stdout",
     "output_type": "stream",
     "text": [
      "You must install pydot (`pip install pydot`) and install graphviz (see instructions at https://graphviz.gitlab.io/download/) for plot_model/model_to_dot to work.\n"
     ]
    }
   ],
   "source": [
    "plot_model(model, show_shapes = True)"
   ],
   "metadata": {
    "collapsed": false,
    "pycharm": {
     "name": "#%%\n"
    }
   }
  },
  {
   "cell_type": "code",
   "execution_count": 22,
   "outputs": [],
   "source": [
    "class myCallback(tf.keras.callbacks.Callback):\n",
    "    def on_epoch_end(self, epoch, logs={}):\n",
    "        if(logs.get('accuracy')>0.75):\n",
    "            print(\"\\nReached 75% accuracy so cancelling training!\")\n",
    "            self.model.stop_training = True\n",
    "\n",
    "es = tf.keras.callbacks.EarlyStopping(monitor = 'accuracy', patience = 25, verbose = 1, restore_best_weights=True,\n",
    "                                      min_delta = 0.02)\n",
    "callbacks = myCallback()"
   ],
   "metadata": {
    "collapsed": false,
    "pycharm": {
     "name": "#%%\n"
    }
   }
  },
  {
   "cell_type": "code",
   "execution_count": 23,
   "outputs": [],
   "source": [
    "opt = tf.keras.optimizers.RMSprop()\n",
    "model.compile(loss = 'binary_crossentropy', optimizer = opt, metrics = ['accuracy'])"
   ],
   "metadata": {
    "collapsed": false,
    "pycharm": {
     "name": "#%%\n"
    }
   }
  },
  {
   "cell_type": "code",
   "execution_count": 26,
   "outputs": [
    {
     "name": "stdout",
     "output_type": "stream",
     "text": [
      "Epoch 1/10\n",
      "91/91 [==============================] - 70s 764ms/step - loss: 0.0087 - accuracy: 0.5424 - val_loss: 0.0276 - val_accuracy: 0.5212\n",
      "Epoch 2/10\n",
      "91/91 [==============================] - 69s 758ms/step - loss: 0.0075 - accuracy: 0.5363 - val_loss: 0.0186 - val_accuracy: 0.5609\n",
      "Epoch 3/10\n",
      "91/91 [==============================] - 69s 758ms/step - loss: 0.0069 - accuracy: 0.5429 - val_loss: 0.0160 - val_accuracy: 0.5268\n",
      "Epoch 4/10\n",
      "91/91 [==============================] - 69s 761ms/step - loss: 0.0074 - accuracy: 0.5235 - val_loss: 0.0153 - val_accuracy: 0.5035\n",
      "Epoch 5/10\n",
      "91/91 [==============================] - 69s 760ms/step - loss: 0.0058 - accuracy: 0.5340 - val_loss: 0.0203 - val_accuracy: 0.6037\n",
      "Epoch 6/10\n",
      "91/91 [==============================] - 69s 763ms/step - loss: 0.0076 - accuracy: 0.5481 - val_loss: 0.0242 - val_accuracy: 0.5920\n",
      "Epoch 7/10\n",
      "91/91 [==============================] - 69s 762ms/step - loss: 0.0069 - accuracy: 0.5111 - val_loss: 0.0167 - val_accuracy: 0.4693\n",
      "Epoch 8/10\n",
      "91/91 [==============================] - 69s 760ms/step - loss: 0.0042 - accuracy: 0.5209 - val_loss: 0.0186 - val_accuracy: 0.5468\n",
      "Epoch 9/10\n",
      "91/91 [==============================] - 69s 763ms/step - loss: 0.0041 - accuracy: 0.5213 - val_loss: 0.0239 - val_accuracy: 0.4155\n",
      "Epoch 10/10\n",
      "91/91 [==============================] - 72s 791ms/step - loss: 0.0060 - accuracy: 0.5234 - val_loss: 0.0342 - val_accuracy: 0.6170\n"
     ]
    }
   ],
   "source": [
    "epochs = 10\n",
    "\n",
    "hist = model.fit(train_generator, epochs = epochs, validation_data = valid_generator, callbacks=[callbacks])"
   ],
   "metadata": {
    "collapsed": false,
    "pycharm": {
     "name": "#%%\n"
    }
   }
  },
  {
   "cell_type": "code",
   "execution_count": 27,
   "outputs": [],
   "source": [
    "train_acc = hist.history['accuracy']\n",
    "train_loss = hist.history['loss']\n",
    "\n",
    "valid_acc = hist.history['val_accuracy']\n",
    "valid_loss = hist.history['val_loss']\n",
    "epochs = range(len(train_acc))"
   ],
   "metadata": {
    "collapsed": false,
    "pycharm": {
     "name": "#%%\n"
    }
   }
  },
  {
   "cell_type": "code",
   "execution_count": 28,
   "outputs": [
    {
     "data": {
      "text/plain": "Text(0.5, 1.0, 'Accuracy')"
     },
     "execution_count": 28,
     "metadata": {},
     "output_type": "execute_result"
    },
    {
     "data": {
      "text/plain": "<Figure size 432x288 with 1 Axes>",
      "image/png": "[encoded data removed]"
     },
     "metadata": {
      "needs_background": "light"
     },
     "output_type": "display_data"
    }
   ],
   "source": [
    "plt.plot(epochs, train_acc, 'r', label = 'Train Accuracy')\n",
    "plt.plot(epochs, valid_acc, 'b', label = 'Validation Accuracy')\n",
    "plt.legend()\n",
    "plt.title('Accuracy')"
   ],
   "metadata": {
    "collapsed": false,
    "pycharm": {
     "name": "#%%\n"
    }
   }
  },
  {
   "cell_type": "code",
   "execution_count": 29,
   "outputs": [
    {
     "data": {
      "text/plain": "Text(0.5, 1.0, 'Loss')"
     },
     "execution_count": 29,
     "metadata": {},
     "output_type": "execute_result"
    },
    {
     "data": {
      "text/plain": "<Figure size 432x288 with 1 Axes>",
      "image/png": "[encoded data removed]"
     },
     "metadata": {
      "needs_background": "light"
     },
     "output_type": "display_data"
    }
   ],
   "source": [
    "plt.plot(epochs, train_loss, 'r', label = 'Train Loss')\n",
    "plt.plot(epochs, valid_loss, 'b', label = 'Validation Loss')\n",
    "plt.legend()\n",
    "plt.title('Loss')"
   ],
   "metadata": {
    "collapsed": false,
    "pycharm": {
     "name": "#%%\n"
    }
   }
  },
  {
   "cell_type": "code",
   "execution_count": 30,
   "outputs": [
    {
     "name": "stdout",
     "output_type": "stream",
     "text": [
      "23/23 [==============================] - 3s 124ms/step - loss: 0.0399 - accuracy: 0.5900\n",
      "0.039891865104436874\n",
      "59 %\n"
     ]
    }
   ],
   "source": [
    "loss, accuracy = model.evaluate(test_generator, batch_size = batch_size)\n",
    "print(loss)\n",
    "print(int(accuracy * 100), '%')"
   ],
   "metadata": {
    "collapsed": false,
    "pycharm": {
     "name": "#%%\n"
    }
   }
  },
  {
   "cell_type": "code",
   "execution_count": 31,
   "outputs": [],
   "source": [
    "model.save('mnist-2-2.h5')"
   ],
   "metadata": {
    "collapsed": false,
    "pycharm": {
     "name": "#%%\n"
    }
   }
  },
  {
   "cell_type": "code",
   "execution_count": null,
   "outputs": [],
   "source": [],
   "metadata": {
    "collapsed": false,
    "pycharm": {
     "name": "#%%\n"
    }
   }
  }
 ],
 "metadata": {
  "kernelspec": {
   "display_name": "Python 3",
   "language": "python",
   "name": "python3"
  },
  "language_info": {
   "codemirror_mode": {
    "name": "ipython",
    "version": 2
   },
   "file_extension": ".py",
   "mimetype": "text/x-python",
   "name": "python",
   "nbconvert_exporter": "python",
   "pygments_lexer": "ipython2",
   "version": "2.7.6"
  }
 },
 "nbformat": 4,
 "nbformat_minor": 0
}