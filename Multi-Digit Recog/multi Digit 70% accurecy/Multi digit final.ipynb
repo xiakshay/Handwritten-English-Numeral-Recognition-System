{
 "cells": [
  {
   "cell_type": "code",
   "execution_count": 10,
   "id": "77ba3662",
   "metadata": {},
   "outputs": [],
   "source": [
    "import tensorflow as tf\n",
    "import numpy as np\n",
    "from tensorflow.keras.datasets import mnist\n",
    "import matplotlib.pyplot as plt\n"
   ]
  },
  {
   "cell_type": "code",
   "execution_count": 12,
   "id": "c45c3618",
   "metadata": {},
   "outputs": [],
   "source": [
    "(x_train, y_train), (x_test, y_test) = mnist.load_data()\n",
    "x_train = x_train.reshape(x_train.shape[0], 28, 28, 1)\n",
    "x_test = x_test.reshape(x_test.shape[0], 28, 28, 1)"
   ]
  },
  {
   "cell_type": "code",
   "execution_count": 14,
   "id": "d1269c17",
   "metadata": {},
   "outputs": [
    {
     "name": "stdout",
     "output_type": "stream",
     "text": [
      "Number of images in x_train 60000\n",
      "Number of images in x_test 10000\n"
     ]
    }
   ],
   "source": [
    "input_shape = (28, 28, 1)\n",
    "x_train = x_train.astype('float32')\n",
    "x_test = x_test.astype('float32')\n",
    "x_train /= 255\n",
    "x_test /= 255\n",
    "print('Number of images in x_train', x_train.shape[0])\n",
    "print('Number of images in x_test', x_test.shape[0])\n",
    "x_train = x_train / 255\n",
    "x_test = x_test / 255\n"
   ]
  },
  {
   "cell_type": "code",
   "execution_count": 17,
   "id": "0bb6fe92",
   "metadata": {},
   "outputs": [],
   "source": [
    "from keras.models import Sequential\n",
    "from keras.layers import Dense, Conv2D, Dropout, Flatten, MaxPooling2D"
   ]
  },
  {
   "cell_type": "code",
   "execution_count": 18,
   "id": "48d988ad",
   "metadata": {},
   "outputs": [
    {
     "name": "stdout",
     "output_type": "stream",
     "text": [
      "Epoch 1/50\n",
      "1875/1875 [==============================] - 22s 11ms/step - loss: 0.6065 - accuracy: 0.8184\n",
      "Epoch 2/50\n",
      "1875/1875 [==============================] - 21s 11ms/step - loss: 0.2272 - accuracy: 0.9328\n",
      "Epoch 3/50\n",
      "1875/1875 [==============================] - 21s 11ms/step - loss: 0.1640 - accuracy: 0.9509\n",
      "Epoch 4/50\n",
      "1875/1875 [==============================] - 21s 11ms/step - loss: 0.1362 - accuracy: 0.9587\n",
      "Epoch 5/50\n",
      "1875/1875 [==============================] - 21s 11ms/step - loss: 0.1164 - accuracy: 0.9644\n",
      "Epoch 6/50\n",
      "1875/1875 [==============================] - 21s 11ms/step - loss: 0.1050 - accuracy: 0.9681\n",
      "Epoch 7/50\n",
      "1875/1875 [==============================] - 21s 11ms/step - loss: 0.0943 - accuracy: 0.9706\n",
      "Epoch 8/50\n",
      "1875/1875 [==============================] - 21s 11ms/step - loss: 0.0857 - accuracy: 0.9739\n",
      "Epoch 9/50\n",
      "1875/1875 [==============================] - 21s 11ms/step - loss: 0.0800 - accuracy: 0.9749\n",
      "Epoch 10/50\n",
      "1875/1875 [==============================] - 21s 11ms/step - loss: 0.0751 - accuracy: 0.9764\n",
      "Epoch 11/50\n",
      "1875/1875 [==============================] - 21s 11ms/step - loss: 0.0708 - accuracy: 0.9781\n",
      "Epoch 12/50\n",
      "1875/1875 [==============================] - 21s 11ms/step - loss: 0.0654 - accuracy: 0.9789\n",
      "Epoch 13/50\n",
      "1875/1875 [==============================] - 21s 11ms/step - loss: 0.0620 - accuracy: 0.9805\n",
      "Epoch 14/50\n",
      "1875/1875 [==============================] - 21s 11ms/step - loss: 0.0575 - accuracy: 0.9817\n",
      "Epoch 15/50\n",
      "1875/1875 [==============================] - 21s 11ms/step - loss: 0.0564 - accuracy: 0.9816\n",
      "Epoch 16/50\n",
      "1875/1875 [==============================] - 21s 11ms/step - loss: 0.0529 - accuracy: 0.9829\n",
      "Epoch 17/50\n",
      "1875/1875 [==============================] - 21s 11ms/step - loss: 0.0507 - accuracy: 0.9833\n",
      "Epoch 18/50\n",
      "1875/1875 [==============================] - 21s 11ms/step - loss: 0.0490 - accuracy: 0.9843\n",
      "Epoch 19/50\n",
      "1875/1875 [==============================] - 21s 11ms/step - loss: 0.0457 - accuracy: 0.9847\n",
      "Epoch 20/50\n",
      "1875/1875 [==============================] - 21s 11ms/step - loss: 0.0462 - accuracy: 0.9846\n",
      "Epoch 21/50\n",
      "1875/1875 [==============================] - 21s 11ms/step - loss: 0.0435 - accuracy: 0.9855\n",
      "Epoch 22/50\n",
      "1875/1875 [==============================] - 21s 11ms/step - loss: 0.0417 - accuracy: 0.9861\n",
      "Epoch 23/50\n",
      "1875/1875 [==============================] - 21s 11ms/step - loss: 0.0386 - accuracy: 0.9872\n",
      "Epoch 24/50\n",
      "1875/1875 [==============================] - 21s 11ms/step - loss: 0.0399 - accuracy: 0.9864\n",
      "Epoch 25/50\n",
      "1875/1875 [==============================] - 21s 11ms/step - loss: 0.0370 - accuracy: 0.9872\n",
      "Epoch 26/50\n",
      "1875/1875 [==============================] - 21s 11ms/step - loss: 0.0362 - accuracy: 0.9877\n",
      "Epoch 27/50\n",
      "1875/1875 [==============================] - 21s 11ms/step - loss: 0.0352 - accuracy: 0.9881\n",
      "Epoch 28/50\n",
      "1875/1875 [==============================] - 21s 11ms/step - loss: 0.0326 - accuracy: 0.9893\n",
      "Epoch 29/50\n",
      "1875/1875 [==============================] - 21s 11ms/step - loss: 0.0324 - accuracy: 0.9892\n",
      "Epoch 30/50\n",
      "1875/1875 [==============================] - 21s 11ms/step - loss: 0.0311 - accuracy: 0.9897\n",
      "Epoch 31/50\n",
      "1875/1875 [==============================] - 21s 11ms/step - loss: 0.0307 - accuracy: 0.9896\n",
      "Epoch 32/50\n",
      "1875/1875 [==============================] - 21s 11ms/step - loss: 0.0299 - accuracy: 0.9899\n",
      "Epoch 33/50\n",
      "1875/1875 [==============================] - 21s 11ms/step - loss: 0.0293 - accuracy: 0.9901\n",
      "Epoch 34/50\n",
      "1875/1875 [==============================] - 21s 11ms/step - loss: 0.0297 - accuracy: 0.9899\n",
      "Epoch 35/50\n",
      "1875/1875 [==============================] - 21s 11ms/step - loss: 0.0274 - accuracy: 0.9904\n",
      "Epoch 36/50\n",
      "1875/1875 [==============================] - 21s 11ms/step - loss: 0.0270 - accuracy: 0.9904\n",
      "Epoch 37/50\n",
      "1875/1875 [==============================] - 21s 11ms/step - loss: 0.0260 - accuracy: 0.9909\n",
      "Epoch 38/50\n",
      "1875/1875 [==============================] - 21s 11ms/step - loss: 0.0246 - accuracy: 0.9913\n",
      "Epoch 39/50\n",
      "1875/1875 [==============================] - 21s 11ms/step - loss: 0.0264 - accuracy: 0.9909\n",
      "Epoch 40/50\n",
      "1875/1875 [==============================] - 21s 11ms/step - loss: 0.0254 - accuracy: 0.9916\n",
      "Epoch 41/50\n",
      "1875/1875 [==============================] - 21s 11ms/step - loss: 0.0234 - accuracy: 0.9918\n",
      "Epoch 42/50\n",
      "1875/1875 [==============================] - 21s 11ms/step - loss: 0.0242 - accuracy: 0.9916\n",
      "Epoch 43/50\n",
      "1875/1875 [==============================] - 21s 11ms/step - loss: 0.0222 - accuracy: 0.9924\n",
      "Epoch 44/50\n",
      "1875/1875 [==============================] - 21s 11ms/step - loss: 0.0217 - accuracy: 0.9922\n",
      "Epoch 45/50\n",
      "1875/1875 [==============================] - 21s 11ms/step - loss: 0.0220 - accuracy: 0.9924\n",
      "Epoch 46/50\n",
      "1875/1875 [==============================] - 21s 11ms/step - loss: 0.0217 - accuracy: 0.9929\n",
      "Epoch 47/50\n",
      "1875/1875 [==============================] - 21s 11ms/step - loss: 0.0193 - accuracy: 0.9933\n",
      "Epoch 48/50\n",
      "1875/1875 [==============================] - 21s 11ms/step - loss: 0.0219 - accuracy: 0.9923\n",
      "Epoch 49/50\n",
      "1875/1875 [==============================] - 21s 11ms/step - loss: 0.0186 - accuracy: 0.9937\n",
      "Epoch 50/50\n",
      "1875/1875 [==============================] - 21s 11ms/step - loss: 0.0185 - accuracy: 0.9936\n",
      "313/313 [==============================] - 1s 4ms/step - loss: 0.0737 - accuracy: 0.9819\n",
      "INFO:tensorflow:Assets written to: MNIST-CNN.model\\assets\n"
     ]
    }
   ],
   "source": [
    "\n",
    "model = Sequential()\n",
    "model.add(Conv2D(28, kernel_size=(3,3), input_shape=(28, 28, 1)))\n",
    "model.add(MaxPooling2D(pool_size=(2, 2)))\n",
    "model.add(Flatten())\n",
    "model.add(Dense(128, activation=tf.nn.relu))\n",
    "model.add(Dropout(0.2))\n",
    "model.add(Dense(10,activation=tf.nn.softmax))\n",
    "model.compile(optimizer='adam', \n",
    "              loss='sparse_categorical_crossentropy', \n",
    "              metrics=['accuracy'])\n",
    "model.fit(x=x_train,y=y_train, epochs=50)\n",
    "model.evaluate(x_test, y_test)\n",
    "model.save('MNIST-CNN.model')"
   ]
  },
  {
   "cell_type": "code",
   "execution_count": null,
   "id": "7e7bc82f",
   "metadata": {},
   "outputs": [],
   "source": []
  },
  {
   "cell_type": "markdown",
   "id": "f61c1e7b",
   "metadata": {},
   "source": [
    "## test"
   ]
  },
  {
   "cell_type": "code",
   "execution_count": 1,
   "id": "659493ec",
   "metadata": {},
   "outputs": [],
   "source": [
    "from keras.models  import load_model\n",
    "import numpy as np\n",
    "import cv2\n",
    "\n",
    "#load your model\n",
    "model = load_model(\"MNIST-CNN.model\")\n",
    "\n"
   ]
  },
  {
   "cell_type": "code",
   "execution_count": 2,
   "id": "f365e487",
   "metadata": {},
   "outputs": [
    {
     "name": "stdout",
     "output_type": "stream",
     "text": [
      "Result: 1\n",
      "Result: 0\n",
      "Result: 2\n",
      "Result: 3\n",
      "Result: 4\n",
      "Result: 7\n",
      "Result: 6\n"
     ]
    },
    {
     "data": {
      "text/plain": [
       "-1"
      ]
     },
     "execution_count": 2,
     "metadata": {},
     "output_type": "execute_result"
    }
   ],
   "source": [
    "#load your image to recognit image\n",
    "image = cv2.imread(\"img.png\")\n",
    "image1 = cv2.imread(\"img.png\")\n",
    "#perform some basic operation to smooth image\n",
    "image = cv2.cvtColor(image, cv2.COLOR_BGR2GRAY)\n",
    "image = cv2.GaussianBlur(image, (5, 5), 0)\n",
    "\n",
    "#find threshold image\n",
    "ret, image = cv2.threshold(image, 90, 255, cv2.THRESH_BINARY_INV+cv2.THRESH_OTSU)\n",
    "\n",
    "#find contours on image and draw it.\n",
    "ctrs, hier = cv2.findContours(image, cv2.RETR_EXTERNAL, cv2.CHAIN_APPROX_SIMPLE)\n",
    "rects = [cv2.boundingRect(ctr) for ctr in ctrs]\n",
    "for rect in rects:\n",
    "    #draw rectangle on image using contours\n",
    "    cv2.rectangle(image1, (rect[0], rect[1]), (rect[0] + rect[2], rect[1] + rect[3]), (0, 255, 0), 3)\n",
    "    leng = int(rect[3] * 1.6)\n",
    "    pt1 = abs(int(rect[1] + rect[3] // 2 - leng // 2))\n",
    "    pt2 = abs(int(rect[0] + rect[2] // 2 - leng // 2))\n",
    "    #resize image\n",
    "    roi = image[pt1:pt1+leng, pt2:pt2+leng]\n",
    "    roi = cv2.resize(roi,(28, 28), interpolation=cv2.INTER_AREA)\n",
    "\n",
    "    #reshape your image according to your model\n",
    "    roi = roi.reshape(-1,28, 28, 1)\n",
    "    roi = np.array(roi, dtype='float32')\n",
    "    roi /= 255\n",
    "    #to perform prediction on your image\n",
    "    pred_array = model.predict(roi)\n",
    "    pred_array = np.argmax(pred_array)\n",
    "\n",
    "    #print result\n",
    "    print('Result: {0}'.format(pred_array))\n",
    "\n",
    "    #print text on your image\n",
    "    cv2.putText(image1, str(pred_array), (rect[0], rect[1]),cv2.FONT_HERSHEY_DUPLEX, 2, (0, 0, 255), 3)\n",
    "    #show your image\n",
    "cv2.imshow(\"Result4\",image1)\n",
    "\n",
    "#save your image\n",
    "cv2.imwrite(\"image4.jpg\",image1)\n",
    "\n",
    "cv2.waitKey(0)\n"
   ]
  },
  {
   "cell_type": "code",
   "execution_count": null,
   "id": "1d1f0946",
   "metadata": {},
   "outputs": [],
   "source": []
  }
 ],
 "metadata": {
  "kernelspec": {
   "display_name": "Python 3",
   "language": "python",
   "name": "python3"
  },
  "language_info": {
   "codemirror_mode": {
    "name": "ipython",
    "version": 3
   },
   "file_extension": ".py",
   "mimetype": "text/x-python",
   "name": "python",
   "nbconvert_exporter": "python",
   "pygments_lexer": "ipython3",
   "version": "3.8.8"
  }
 },
 "nbformat": 4,
 "nbformat_minor": 5
}
