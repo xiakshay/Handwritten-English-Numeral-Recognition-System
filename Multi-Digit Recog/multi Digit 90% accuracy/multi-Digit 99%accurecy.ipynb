{
 "cells": [
  {
   "cell_type": "code",
   "execution_count": 2,
   "id": "4c8f77df",
   "metadata": {},
   "outputs": [],
   "source": [
    "from tensorflow.keras import layers\n",
    "from tensorflow.keras import models\n",
    "from keras.datasets import mnist\n",
    "from tensorflow.keras.utils import to_categorical\n",
    "\n",
    "(train_images, train_labels), (test_images, test_labels) = mnist.load_data()"
   ]
  },
  {
   "cell_type": "code",
   "execution_count": 3,
   "id": "6f8b58f8",
   "metadata": {},
   "outputs": [
    {
     "name": "stdout",
     "output_type": "stream",
     "text": [
      "Model: \"sequential\"\n",
      "_________________________________________________________________\n",
      " Layer (type)                Output Shape              Param #   \n",
      "=================================================================\n",
      " conv2d (Conv2D)             (None, 26, 26, 32)        320       \n",
      "                                                                 \n",
      " max_pooling2d (MaxPooling2D  (None, 13, 13, 32)       0         \n",
      " )                                                               \n",
      "                                                                 \n",
      " conv2d_1 (Conv2D)           (None, 11, 11, 64)        18496     \n",
      "                                                                 \n",
      " max_pooling2d_1 (MaxPooling  (None, 5, 5, 64)         0         \n",
      " 2D)                                                             \n",
      "                                                                 \n",
      " conv2d_2 (Conv2D)           (None, 3, 3, 64)          36928     \n",
      "                                                                 \n",
      " flatten (Flatten)           (None, 576)               0         \n",
      "                                                                 \n",
      " dense (Dense)               (None, 64)                36928     \n",
      "                                                                 \n",
      " dense_1 (Dense)             (None, 10)                650       \n",
      "                                                                 \n",
      "=================================================================\n",
      "Total params: 93,322\n",
      "Trainable params: 93,322\n",
      "Non-trainable params: 0\n",
      "_________________________________________________________________\n",
      "Epoch 1/5\n",
      "938/938 [==============================] - 26s 28ms/step - loss: 0.1568 - accuracy: 0.9512\n",
      "Epoch 2/5\n",
      "938/938 [==============================] - 24s 26ms/step - loss: 0.0441 - accuracy: 0.9864\n",
      "Epoch 3/5\n",
      "938/938 [==============================] - 25s 26ms/step - loss: 0.0308 - accuracy: 0.9903\n",
      "Epoch 4/5\n",
      "938/938 [==============================] - 25s 27ms/step - loss: 0.0237 - accuracy: 0.9926\n",
      "Epoch 5/5\n",
      "938/938 [==============================] - 26s 27ms/step - loss: 0.0190 - accuracy: 0.9940\n",
      "313/313 [==============================] - 1s 3ms/step - loss: 0.0280 - accuracy: 0.9913\n",
      "0.9912999868392944\n"
     ]
    }
   ],
   "source": [
    "\n",
    "\n",
    "model = models.Sequential()\n",
    "model.add(layers.Conv2D(32, (3, 3), activation='relu', input_shape=(28, 28, 1)))\n",
    "model.add(layers.MaxPooling2D((2, 2)))\n",
    "model.add(layers.Conv2D(64, (3, 3), activation='relu'))\n",
    "model.add(layers.MaxPooling2D((2, 2)))\n",
    "model.add(layers.Conv2D(64, (3, 3), activation='relu'))\n",
    "\n",
    "model.add(layers.Flatten())\n",
    "model.add(layers.Dense(64, activation='relu'))\n",
    "model.add(layers.Dense(10, activation='softmax'))\n",
    "model.summary()\n",
    "\n",
    "train_images = train_images.reshape((60000, 28, 28, 1))\n",
    "train_images = train_images.astype('float32') / 255\n",
    "test_images = test_images.reshape((10000, 28, 28, 1))\n",
    "test_images = test_images.astype('float32') / 255\n",
    "train_labels = to_categorical(train_labels)\n",
    "test_labels = to_categorical(test_labels)\n",
    "\n",
    "model.compile(optimizer='rmsprop', loss='categorical_crossentropy', metrics=['accuracy'])\n",
    "model.fit(train_images, train_labels, epochs=5, batch_size=64)\n",
    "\n",
    "test_loss, test_acc = model.evaluate(test_images, test_labels)\n",
    "\n",
    "print(test_acc)\n",
    "\n",
    "model.save('mnist.h5')"
   ]
  },
  {
   "cell_type": "code",
   "execution_count": null,
   "id": "3748a33d",
   "metadata": {},
   "outputs": [],
   "source": []
  },
  {
   "cell_type": "code",
   "execution_count": null,
   "id": "06db37f6",
   "metadata": {},
   "outputs": [],
   "source": []
  },
  {
   "cell_type": "markdown",
   "id": "904e64bd",
   "metadata": {},
   "source": [
    "## GUI"
   ]
  },
  {
   "cell_type": "code",
   "execution_count": 5,
   "id": "7a2c9085",
   "metadata": {},
   "outputs": [],
   "source": [
    "from tkinter import *\n",
    "\n",
    "import cv2\n",
    "import numpy as np\n",
    "from PIL import ImageGrab\n",
    "from tensorflow.keras.models import load_model\n",
    "\n",
    "model = load_model('mnist.h5')"
   ]
  },
  {
   "cell_type": "code",
   "execution_count": 6,
   "id": "572e39fd",
   "metadata": {},
   "outputs": [],
   "source": [
    "image_folder = \"img/\""
   ]
  },
  {
   "cell_type": "code",
   "execution_count": 12,
   "id": "240bee20",
   "metadata": {},
   "outputs": [
    {
     "data": {
      "text/plain": [
       "'2124633951808activate_event'"
      ]
     },
     "execution_count": 12,
     "metadata": {},
     "output_type": "execute_result"
    }
   ],
   "source": [
    "\n",
    "\n",
    "\n",
    "root = Tk()\n",
    "root.resizable(0, 0)\n",
    "root.title(\"Multi-Digit Rec\")\n",
    "\n",
    "lastx, lasty = None, None\n",
    "image_number = 0\n",
    "\n",
    "cv = Canvas(root, width=640, height=480, bg='white')\n",
    "cv.grid(row=0, column=0, pady=2, sticky=W, columnspan=2)\n",
    "\n",
    "\n",
    "def clear_widget():\n",
    "    global cv\n",
    "    cv.delete('all')\n",
    "\n",
    "\n",
    "def draw_lines(event):\n",
    "    global lastx, lasty\n",
    "    x, y = event.x, event.y\n",
    "    cv.create_line((lastx, lasty, x, y), width=8, fill='black', capstyle=ROUND, smooth=TRUE, splinesteps=12)\n",
    "    lastx, lasty = x, y\n",
    "\n",
    "\n",
    "def activate_event(event):\n",
    "    global lastx, lasty\n",
    "    cv.bind('<B1-Motion>', draw_lines)\n",
    "    lastx, lasty = event.x, event.y\n",
    "\n",
    "\n",
    "cv.bind('<Button-1>', activate_event)\n"
   ]
  },
  {
   "cell_type": "code",
   "execution_count": null,
   "id": "445596ba",
   "metadata": {},
   "outputs": [
    {
     "name": "stdout",
     "output_type": "stream",
     "text": [
      "224 272 868 756\n",
      "164 160 808 644\n",
      "134 130 778 614\n",
      "70 102 714 586\n",
      "70 102 714 586\n",
      "70 102 714 586\n",
      "70 102 714 586\n",
      "70 102 714 586\n",
      "70 102 714 586\n",
      "70 102 714 586\n",
      "70 102 714 586\n",
      "70 102 714 586\n",
      "70 102 714 586\n",
      "70 102 714 586\n",
      "70 102 714 586\n",
      "70 102 714 586\n",
      "70 102 714 586\n",
      "70 102 714 586\n",
      "70 102 714 586\n",
      "70 102 714 586\n",
      "70 102 714 586\n",
      "70 102 714 586\n"
     ]
    }
   ],
   "source": [
    "\n",
    "\n",
    "def Recognize_Digit():\n",
    "    global image_number\n",
    "    filename = f'img_{image_number}.png'\n",
    "    widget = cv\n",
    "\n",
    "    x = root.winfo_rootx() + widget.winfo_rootx()\n",
    "    y = root.winfo_rooty() + widget.winfo_rooty()\n",
    "    x1 = x + widget.winfo_width()\n",
    "    y1 = y + widget.winfo_height()\n",
    "    print(x, y, x1, y1)\n",
    "\n",
    "    # get image and save\n",
    "    ImageGrab.grab().crop((x, y, x1, y1)).save(image_folder + filename)\n",
    "\n",
    "    image = cv2.imread(image_folder + filename, cv2.IMREAD_COLOR)\n",
    "    gray = cv2.cvtColor(image.copy(), cv2.COLOR_BGR2GRAY)\n",
    "    ret, th = cv2.threshold(gray, 0, 255, cv2.THRESH_BINARY_INV + cv2.THRESH_OTSU)\n",
    "\n",
    "    contours = cv2.findContours(th, cv2.RETR_EXTERNAL, cv2.CHAIN_APPROX_SIMPLE)[0]\n",
    "\n",
    "    for cnt in contours:\n",
    "        x, y, w, h = cv2.boundingRect(cnt)\n",
    "        # make a rectangle box around each curve\n",
    "        cv2.rectangle(image, (x, y), (x + w, y + h), (255, 0, 0), 1)\n",
    "\n",
    "        # Cropping out the digit from the image corresponding to the current contours in the for loop\n",
    "        digit = th[y:y + h, x:x + w]\n",
    "\n",
    "        # Resizing that digit to (18, 18)\n",
    "        resized_digit = cv2.resize(digit, (18, 18))\n",
    "\n",
    "        # Padding the digit with 5 pixels of black color (zeros) in each side to finally produce the image of (28, 28)\n",
    "        padded_digit = np.pad(resized_digit, ((5, 5), (5, 5)), \"constant\", constant_values=0)\n",
    "\n",
    "        digit = padded_digit.reshape(1, 28, 28, 1)\n",
    "        digit = digit / 255.0\n",
    "\n",
    "        pred = model.predict([digit])[0]\n",
    "        final_pred = np.argmax(pred)\n",
    "\n",
    "        data = str(final_pred) + ' ' + str(int(max(pred) * 100)) + '%'\n",
    "\n",
    "        font = cv2.FONT_HERSHEY_SIMPLEX\n",
    "        fontScale = 0.5\n",
    "        color = (255, 0, 0)\n",
    "        thickness = 1\n",
    "        cv2.putText(image, data, (x, y - 5), font, fontScale, color, thickness)\n",
    "\n",
    "    cv2.imshow('image', image)\n",
    "    cv2.waitKey(0)\n",
    "\n",
    "\n",
    "btn_save = Button(text='Recognize Digit', command=Recognize_Digit)\n",
    "btn_save.grid(row=2, column=0, pady=1, padx=1)\n",
    "button_clear = Button(text='Clear Widget', command=clear_widget)\n",
    "button_clear.grid(row=2, column=1, pady=1, padx=1)\n",
    "\n",
    "root.mainloop()"
   ]
  },
  {
   "cell_type": "code",
   "execution_count": null,
   "id": "c6f0d786",
   "metadata": {},
   "outputs": [],
   "source": []
  }
 ],
 "metadata": {
  "kernelspec": {
   "display_name": "Python 3",
   "language": "python",
   "name": "python3"
  },
  "language_info": {
   "codemirror_mode": {
    "name": "ipython",
    "version": 3
   },
   "file_extension": ".py",
   "mimetype": "text/x-python",
   "name": "python",
   "nbconvert_exporter": "python",
   "pygments_lexer": "ipython3",
   "version": "3.8.8"
  }
 },
 "nbformat": 4,
 "nbformat_minor": 5
}
