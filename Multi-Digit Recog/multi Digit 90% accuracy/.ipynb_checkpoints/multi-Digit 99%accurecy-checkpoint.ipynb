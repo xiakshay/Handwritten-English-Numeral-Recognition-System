{
 "cells": [
  {
   "cell_type": "markdown",
   "id": "5126a2af",
   "metadata": {},
   "source": [
    "# English Numeral Recognization System"
   ]
  },
  {
   "cell_type": "code",
   "execution_count": null,
   "id": "63a601fc",
   "metadata": {},
   "outputs": [],
   "source": []
  },
  {
   "cell_type": "markdown",
   "id": "8af5c7a6",
   "metadata": {},
   "source": [
    "#### Importing Useful Libraries"
   ]
  },
  {
   "cell_type": "markdown",
   "id": "8a7ba3dd",
   "metadata": {},
   "source": [
    "**tensorflow.keras** "
   ]
  },
  {
   "cell_type": "markdown",
   "id": "a90ec3e6",
   "metadata": {},
   "source": [
    "**layers** - A layer is a callable object that takes as input one or more tensors and that outputs one or more tensors."
   ]
  },
  {
   "cell_type": "markdown",
   "id": "53c5442c",
   "metadata": {},
   "source": [
    "**models** - Deep Learning is a category of machine learning models (=algorithms) that use multi-layer neural networks. Machine Learning has enabled us to build complex applications with great accuracy.\n"
   ]
  },
  {
   "cell_type": "markdown",
   "id": "3b5ccd96",
   "metadata": {},
   "source": [
    "**mnist** - The MNIST dataset is an acronym that stands for the Modified National Institute of Standards and Technology dataset. It is a dataset of 60,000 small square 28×28 pixel grayscale images of handwritten single digits between 0 and 9."
   ]
  },
  {
   "cell_type": "markdown",
   "id": "55740c0b",
   "metadata": {},
   "source": [
    "**to_categorical** - to transform your training data before you pass it to your model. If your training data uses classes as numbers, to_categorical will transform those numbers in proper vectors for using with models."
   ]
  },
  {
   "cell_type": "code",
   "execution_count": 3,
   "id": "4c8f77df",
   "metadata": {},
   "outputs": [],
   "source": [
    "from tensorflow.keras import layers\n",
    "from tensorflow.keras import models\n",
    "from keras.datasets import mnist\n",
    "from tensorflow.keras.utils import to_categorical"
   ]
  },
  {
   "cell_type": "markdown",
   "id": "dd28e7b5",
   "metadata": {},
   "source": [
    "**mnist.load_data()** - \n",
    "From the source code, mnist. load_data() unpacks a dataset that was specifically pickled into a format that allows extracting the data as shown in the source code."
   ]
  },
  {
   "cell_type": "code",
   "execution_count": 4,
   "id": "0432049e",
   "metadata": {},
   "outputs": [],
   "source": [
    "(train_images, train_labels), (test_images, test_labels) = mnist.load_data()"
   ]
  },
  {
   "cell_type": "markdown",
   "id": "ed48e481",
   "metadata": {},
   "source": [
    "**models.Sequence** - Sequence models are the machine learning models that input or output sequences of data."
   ]
  },
  {
   "cell_type": "markdown",
   "id": "a609a8e6",
   "metadata": {},
   "source": [
    "in this senerio, sequence method is used to input the data into a number of sequence."
   ]
  },
  {
   "cell_type": "code",
   "execution_count": 9,
   "id": "3a5fd8de",
   "metadata": {},
   "outputs": [],
   "source": [
    "model = models.Sequential()"
   ]
  },
  {
   "cell_type": "markdown",
   "id": "99cbec92",
   "metadata": {},
   "source": [
    "### Model Fitting"
   ]
  },
  {
   "cell_type": "markdown",
   "id": "95568057",
   "metadata": {},
   "source": [
    "We proceed by fitting several simple neural network models using Keras (with TensorFlow as our backend) and collect their accuracy. The model that performs the best on the validation set will be used as the model of choice for the competition.\n",
    "\n",
    "Model 1: Simple Neural Network with 8 layers \n",
    "\n",
    "In our first model, we will use the Keras library to train a neural network with the activation function set as ReLu. To determine which class to output, we will rely on the SoftMax function"
   ]
  },
  {
   "cell_type": "code",
   "execution_count": 10,
   "id": "55794d59",
   "metadata": {},
   "outputs": [],
   "source": [
    "model.add(layers.Conv2D(32, (3, 3), activation='relu', input_shape=(28, 28, 1)))\n",
    "model.add(layers.MaxPooling2D((2, 2)))\n",
    "model.add(layers.Conv2D(64, (3, 3), activation='relu'))\n",
    "model.add(layers.MaxPooling2D((2, 2)))\n",
    "model.add(layers.Conv2D(64, (3, 3), activation='relu'))\n",
    "model.add(layers.Flatten())\n",
    "model.add(layers.Dense(64, activation='relu'))\n",
    "model.add(layers.Dense(10, activation='softmax'))"
   ]
  },
  {
   "cell_type": "markdown",
   "id": "92a504d5",
   "metadata": {},
   "source": [
    "**Model.summery** - The model summary table reports the strength of the relationship between the model and the dependent variable."
   ]
  },
  {
   "cell_type": "code",
   "execution_count": 11,
   "id": "de18ff53",
   "metadata": {},
   "outputs": [
    {
     "name": "stdout",
     "output_type": "stream",
     "text": [
      "Model: \"sequential_1\"\n",
      "_________________________________________________________________\n",
      " Layer (type)                Output Shape              Param #   \n",
      "=================================================================\n",
      " conv2d_4 (Conv2D)           (None, 26, 26, 32)        320       \n",
      "                                                                 \n",
      " max_pooling2d_2 (MaxPooling  (None, 13, 13, 32)       0         \n",
      " 2D)                                                             \n",
      "                                                                 \n",
      " conv2d_5 (Conv2D)           (None, 11, 11, 64)        18496     \n",
      "                                                                 \n",
      " max_pooling2d_3 (MaxPooling  (None, 5, 5, 64)         0         \n",
      " 2D)                                                             \n",
      "                                                                 \n",
      " conv2d_6 (Conv2D)           (None, 3, 3, 64)          36928     \n",
      "                                                                 \n",
      " flatten_1 (Flatten)         (None, 576)               0         \n",
      "                                                                 \n",
      " dense_2 (Dense)             (None, 64)                36928     \n",
      "                                                                 \n",
      " dense_3 (Dense)             (None, 10)                650       \n",
      "                                                                 \n",
      "=================================================================\n",
      "Total params: 93,322\n",
      "Trainable params: 93,322\n",
      "Non-trainable params: 0\n",
      "_________________________________________________________________\n"
     ]
    }
   ],
   "source": [
    "model.summary()"
   ]
  },
  {
   "cell_type": "markdown",
   "id": "e50b313c",
   "metadata": {},
   "source": [
    "**In this case, we can see there are used 4 types of layers.**\n",
    "\n",
    "* conv2D\n",
    "* MaxPooling2D\n",
    "* Flatten\n",
    "* Dense\n",
    "\n",
    "in the output, we are getting a large parameter. where all the parameters are Trainable parameters."
   ]
  },
  {
   "cell_type": "markdown",
   "id": "b306ed24",
   "metadata": {},
   "source": [
    "### Splitting into training and testing dataset"
   ]
  },
  {
   "cell_type": "markdown",
   "id": "9e85d47c",
   "metadata": {},
   "source": [
    "In the **train_images** taken the size of (60000, 28, 28, 1) and **test_images** of size (10000, 28, 28, 1).\n",
    "\n",
    "Using **to_categorical** defining the two labels, one for **train_lables** and another for **test_labels** on this sequential model."
   ]
  },
  {
   "cell_type": "code",
   "execution_count": 12,
   "id": "6f8b58f8",
   "metadata": {},
   "outputs": [],
   "source": [
    "train_images = train_images.reshape((60000, 28, 28, 1))\n",
    "train_images = train_images.astype('float32') / 255\n",
    "test_images = test_images.reshape((10000, 28, 28, 1))\n",
    "test_images = test_images.astype('float32') / 255\n",
    "train_labels = to_categorical(train_labels)\n",
    "test_labels = to_categorical(test_labels)"
   ]
  },
  {
   "cell_type": "markdown",
   "id": "c59706b0",
   "metadata": {},
   "source": [
    "**model.compile** is used to compile the model\n",
    "\n",
    "in this case, We *fit* the model with the **epoch** value 5 and **batch_size** of 64.\n",
    "And after that, Evaluating the model accuracy."
   ]
  },
  {
   "cell_type": "code",
   "execution_count": 13,
   "id": "7bcc112d",
   "metadata": {},
   "outputs": [
    {
     "name": "stdout",
     "output_type": "stream",
     "text": [
      "Epoch 1/5\n",
      "938/938 [==============================] - 25s 26ms/step - loss: 0.1723 - accuracy: 0.9459\n",
      "Epoch 2/5\n",
      "938/938 [==============================] - 25s 26ms/step - loss: 0.0479 - accuracy: 0.9852\n",
      "Epoch 3/5\n",
      "938/938 [==============================] - 25s 27ms/step - loss: 0.0328 - accuracy: 0.9898\n",
      "Epoch 4/5\n",
      "938/938 [==============================] - 25s 26ms/step - loss: 0.0250 - accuracy: 0.9924\n",
      "Epoch 5/5\n",
      "938/938 [==============================] - 24s 25ms/step - loss: 0.0197 - accuracy: 0.9940\n",
      "313/313 [==============================] - 1s 2ms/step - loss: 0.0345 - accuracy: 0.9881\n",
      "0.988099992275238\n"
     ]
    }
   ],
   "source": [
    "model.compile(optimizer='rmsprop', loss='categorical_crossentropy', metrics=['accuracy'])\n",
    "model.fit(train_images, train_labels, epochs=5, batch_size=64)\n",
    "\n",
    "test_loss, test_acc = model.evaluate(test_images, test_labels)\n",
    "\n",
    "print(test_acc)\n",
    "\n"
   ]
  },
  {
   "cell_type": "markdown",
   "id": "e2ffaea1",
   "metadata": {},
   "source": [
    "So, in the output we can see the model accuracy.\n",
    "* in first Epoch getting the **accuracy 0.9459**\n",
    "* in the second Epooch getting **accuracy 0.9852**\n",
    "* in third Epoch getting **accuracy 0.9898**\n",
    "* in 4th Epoch getting **accuracy 0.9924**\n",
    "* in 5th Epoch getting **accuracy 0.9940**\n",
    "\n",
    "And while checking the test set then we can get the accuracy that is **0.9881**. it means our dataset can get most accuract result and but in some cases it can predict wrong result. \n",
    "\n",
    "Let's save the model into file"
   ]
  },
  {
   "cell_type": "markdown",
   "id": "b9cf8a64",
   "metadata": {},
   "source": [
    "Using **model.save** saving the model into **mnist.h5** so that we'll able to use trained model any time without training it again and again."
   ]
  },
  {
   "cell_type": "code",
   "execution_count": 14,
   "id": "06db37f6",
   "metadata": {},
   "outputs": [],
   "source": [
    "model.save('mnist.h5')"
   ]
  },
  {
   "cell_type": "markdown",
   "id": "be036d8b",
   "metadata": {},
   "source": []
  },
  {
   "cell_type": "markdown",
   "id": "2ef771fa",
   "metadata": {},
   "source": []
  },
  {
   "cell_type": "markdown",
   "id": "904e64bd",
   "metadata": {},
   "source": [
    "## GUI "
   ]
  },
  {
   "cell_type": "markdown",
   "id": "8dda5ae5",
   "metadata": {},
   "source": [
    "This section is only for checking the model. "
   ]
  },
  {
   "cell_type": "markdown",
   "id": "4c4261cc",
   "metadata": {},
   "source": [
    "Used libraries\n",
    "**tkinter** - Tkinter is the standard GUI library for Python. Python when combined with Tkinter provides a fast and easy way to create GUI applications.\n"
   ]
  },
  {
   "cell_type": "code",
   "execution_count": 15,
   "id": "7a2c9085",
   "metadata": {},
   "outputs": [],
   "source": [
    "from tkinter import *\n",
    "\n",
    "import cv2\n",
    "import numpy as np\n",
    "from PIL import ImageGrab\n",
    "from tensorflow.keras.models import load_model\n",
    "\n",
    "model = load_model('mnist.h5')"
   ]
  },
  {
   "cell_type": "code",
   "execution_count": 16,
   "id": "572e39fd",
   "metadata": {},
   "outputs": [],
   "source": [
    "image_folder = \"img/\""
   ]
  },
  {
   "cell_type": "code",
   "execution_count": 17,
   "id": "240bee20",
   "metadata": {},
   "outputs": [
    {
     "data": {
      "text/plain": [
       "'1855909202176activate_event'"
      ]
     },
     "execution_count": 17,
     "metadata": {},
     "output_type": "execute_result"
    }
   ],
   "source": [
    "root = Tk()\n",
    "root.resizable(0, 0)\n",
    "root.title(\"Multi-Digit Rec\")\n",
    "\n",
    "lastx, lasty = None, None\n",
    "image_number = 0\n",
    "\n",
    "cv = Canvas(root, width=640, height=480, bg='white')\n",
    "cv.grid(row=0, column=0, pady=2, sticky=W, columnspan=2)\n",
    "\n",
    "\n",
    "def clear_widget():\n",
    "    global cv\n",
    "    cv.delete('all')\n",
    "\n",
    "\n",
    "def draw_lines(event):\n",
    "    global lastx, lasty\n",
    "    x, y = event.x, event.y\n",
    "    cv.create_line((lastx, lasty, x, y), width=8, fill='black', capstyle=ROUND, smooth=TRUE, splinesteps=12)\n",
    "    lastx, lasty = x, y\n",
    "\n",
    "\n",
    "def activate_event(event):\n",
    "    global lastx, lasty\n",
    "    cv.bind('<B1-Motion>', draw_lines)\n",
    "    lastx, lasty = event.x, event.y\n",
    "\n",
    "\n",
    "cv.bind('<Button-1>', activate_event)\n"
   ]
  },
  {
   "cell_type": "code",
   "execution_count": 18,
   "id": "445596ba",
   "metadata": {},
   "outputs": [
    {
     "name": "stdout",
     "output_type": "stream",
     "text": [
      "224 272 868 756\n",
      "124 152 768 636\n"
     ]
    }
   ],
   "source": [
    "\n",
    "\n",
    "def Recognize_Digit():\n",
    "    global image_number\n",
    "    filename = f'img_{image_number}.png'\n",
    "    widget = cv\n",
    "\n",
    "    x = root.winfo_rootx() + widget.winfo_rootx()\n",
    "    y = root.winfo_rooty() + widget.winfo_rooty()\n",
    "    x1 = x + widget.winfo_width()\n",
    "    y1 = y + widget.winfo_height()\n",
    "    print(x, y, x1, y1)\n",
    "\n",
    "    # get image and save\n",
    "    ImageGrab.grab().crop((x, y, x1, y1)).save(image_folder + filename)\n",
    "\n",
    "    image = cv2.imread(image_folder + filename, cv2.IMREAD_COLOR)\n",
    "    gray = cv2.cvtColor(image.copy(), cv2.COLOR_BGR2GRAY)\n",
    "    ret, th = cv2.threshold(gray, 0, 255, cv2.THRESH_BINARY_INV + cv2.THRESH_OTSU)\n",
    "\n",
    "    contours = cv2.findContours(th, cv2.RETR_EXTERNAL, cv2.CHAIN_APPROX_SIMPLE)[0]\n",
    "\n",
    "    for cnt in contours:\n",
    "        x, y, w, h = cv2.boundingRect(cnt)\n",
    "        # make a rectangle box around each curve\n",
    "        cv2.rectangle(image, (x, y), (x + w, y + h), (255, 0, 0), 1)\n",
    "\n",
    "        # Cropping out the digit from the image corresponding to the current contours in the for loop\n",
    "        digit = th[y:y + h, x:x + w]\n",
    "\n",
    "        # Resizing that digit to (18, 18)\n",
    "        resized_digit = cv2.resize(digit, (18, 18))\n",
    "\n",
    "        # Padding the digit with 5 pixels of black color (zeros) in each side to finally produce the image of (28, 28)\n",
    "        padded_digit = np.pad(resized_digit, ((5, 5), (5, 5)), \"constant\", constant_values=0)\n",
    "\n",
    "        digit = padded_digit.reshape(1, 28, 28, 1)\n",
    "        digit = digit / 255.0\n",
    "\n",
    "        pred = model.predict([digit])[0]\n",
    "        final_pred = np.argmax(pred)\n",
    "\n",
    "        data = str(final_pred) + ' ' + str(int(max(pred) * 100)) + '%'\n",
    "\n",
    "        font = cv2.FONT_HERSHEY_SIMPLEX\n",
    "        fontScale = 0.5\n",
    "        color = (255, 0, 0)\n",
    "        thickness = 1\n",
    "        cv2.putText(image, data, (x, y - 5), font, fontScale, color, thickness)\n",
    "\n",
    "    cv2.imshow('image', image)\n",
    "    cv2.waitKey(0)\n",
    "\n",
    "\n",
    "btn_save = Button(text='Recognize Digit', command=Recognize_Digit)\n",
    "btn_save.grid(row=2, column=0, pady=1, padx=1)\n",
    "button_clear = Button(text='Clear Widget', command=clear_widget)\n",
    "button_clear.grid(row=2, column=1, pady=1, padx=1)\n",
    "\n",
    "root.mainloop()"
   ]
  },
  {
   "cell_type": "markdown",
   "id": "59dafd76",
   "metadata": {},
   "source": [
    "**This is a Simple GUI approach where multiple digits can be detect and for each and every digit the model predicts exact value and also giving the prediction report into percent %**"
   ]
  },
  {
   "cell_type": "markdown",
   "id": "91065b5f",
   "metadata": {},
   "source": [
    "## Thank You 🙏"
   ]
  }
 ],
 "metadata": {
  "kernelspec": {
   "display_name": "Python 3",
   "language": "python",
   "name": "python3"
  },
  "language_info": {
   "codemirror_mode": {
    "name": "ipython",
    "version": 3
   },
   "file_extension": ".py",
   "mimetype": "text/x-python",
   "name": "python",
   "nbconvert_exporter": "python",
   "pygments_lexer": "ipython3",
   "version": "3.8.8"
  }
 },
 "nbformat": 4,
 "nbformat_minor": 5
}
