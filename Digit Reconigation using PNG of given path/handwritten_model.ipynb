{
 "cells": [
  {
   "cell_type": "markdown",
   "id": "8988de7b",
   "metadata": {},
   "source": [
    "## English Numerical Image Recognition"
   ]
  },
  {
   "cell_type": "markdown",
   "id": "d0d4b1db",
   "metadata": {},
   "source": [
    "Importing the important libraries"
   ]
  },
  {
   "cell_type": "code",
   "execution_count": 1,
   "id": "c8b7f879",
   "metadata": {
    "scrolled": true
   },
   "outputs": [],
   "source": [
    "import os\n",
    "import numpy as np\n",
    "import cv2\n",
    "import matplotlib.pyplot as plt\n",
    "import tensorflow as tf"
   ]
  },
  {
   "cell_type": "markdown",
   "id": "b52c1348",
   "metadata": {},
   "source": [
    "Collecting the dataset from `Keras` using `mnist`"
   ]
  },
  {
   "cell_type": "code",
   "execution_count": 2,
   "id": "c1ff910a",
   "metadata": {},
   "outputs": [],
   "source": [
    "mnist = tf.keras.datasets.mnist"
   ]
  },
  {
   "cell_type": "markdown",
   "id": "d158b7c9",
   "metadata": {},
   "source": [
    "Classification of data to tain and test dataset"
   ]
  },
  {
   "cell_type": "code",
   "execution_count": 3,
   "id": "262377b6",
   "metadata": {},
   "outputs": [],
   "source": [
    "(x_train, y_train), (x_test, y_test) = mnist.load_data()"
   ]
  },
  {
   "cell_type": "code",
   "execution_count": 4,
   "id": "74a83813",
   "metadata": {},
   "outputs": [],
   "source": [
    "x_train = tf.keras.utils.normalize(x_train, axis=1)\n",
    "x_test = tf.keras.utils.normalize(x_test, axis=1)"
   ]
  },
  {
   "cell_type": "markdown",
   "id": "9ec7f815",
   "metadata": {},
   "source": [
    "Getting the accurecy and finalizing the model to get the output\n",
    "Here, we are taking the input image shape only 28X28 px. as per need we can also change this pixel\n",
    "All the model are going to save in the folder `handwritten.model`"
   ]
  },
  {
   "cell_type": "code",
   "execution_count": 5,
   "id": "87eaa963",
   "metadata": {},
   "outputs": [
    {
     "name": "stdout",
     "output_type": "stream",
     "text": [
      "Epoch 1/3\n",
      "1875/1875 [==============================] - 4s 2ms/step - loss: 0.2606 - accuracy: 0.9242\n",
      "Epoch 2/3\n",
      "1875/1875 [==============================] - 3s 2ms/step - loss: 0.1082 - accuracy: 0.9663\n",
      "Epoch 3/3\n",
      "1875/1875 [==============================] - 3s 2ms/step - loss: 0.0741 - accuracy: 0.9770\n",
      "INFO:tensorflow:Assets written to: handwritten.model\\assets\n"
     ]
    }
   ],
   "source": [
    "model = tf.keras.models.Sequential()\n",
    "model.add(tf.keras.layers.Flatten(input_shape=(28,28)))\n",
    "model.add(tf.keras.layers.Dense(128, activation='relu'))\n",
    "model.add(tf.keras.layers.Dense(128, activation='relu'))\n",
    "model.add(tf.keras.layers.Dense(10, activation='softmax'))\n",
    "\n",
    "model.compile(optimizer='adam',loss='sparse_categorical_crossentropy',metrics=['accuracy'])\n",
    "model.fit(x_train,y_train, epochs=3)\n",
    "\n",
    "model.save('handwritten.model')"
   ]
  },
  {
   "cell_type": "code",
   "execution_count": 6,
   "id": "0bb345cd",
   "metadata": {},
   "outputs": [],
   "source": [
    "model = tf.keras.models.load_model('handwritten.model')"
   ]
  },
  {
   "cell_type": "markdown",
   "id": "9087a6bb",
   "metadata": {},
   "source": [
    "Getting the final accurecy of the model and printing it to the console"
   ]
  },
  {
   "cell_type": "code",
   "execution_count": 7,
   "id": "dcaa2057",
   "metadata": {},
   "outputs": [
    {
     "name": "stdout",
     "output_type": "stream",
     "text": [
      "313/313 [==============================] - 1s 1ms/step - loss: 0.0900 - accuracy: 0.9705\n",
      "0.0900033712387085\n",
      "0.9704999923706055\n"
     ]
    }
   ],
   "source": [
    "loss, accuracy = model.evaluate(x_test,y_test)\n",
    "\n",
    "print(loss)\n",
    "print(accuracy)"
   ]
  },
  {
   "cell_type": "markdown",
   "id": "fc3d5286",
   "metadata": {},
   "source": [
    "Using the `PNG` images we are going to predict the numerical value and can get the most probable value of handwritten digit"
   ]
  },
  {
   "cell_type": "code",
   "execution_count": 22,
   "id": "d26e3925",
   "metadata": {},
   "outputs": [
    {
     "name": "stdout",
     "output_type": "stream",
     "text": [
      "the number is : 5 \n"
     ]
    },
    {
     "data": {
      "image/png": "[encoded data removed]",
      "text/plain": [
       "<Figure size 432x288 with 1 Axes>"
      ]
     },
     "metadata": {
      "needs_background": "light"
     },
     "output_type": "display_data"
    }
   ],
   "source": [
    "image_numer = 1\n",
    "try:\n",
    "    img = cv2.imread(f\"Digits/five.png\")[:,:,0]\n",
    "    img = np.invert(np.array([img]))\n",
    "    prediction = model.predict(img)\n",
    "    print(f\"the number is : {np.argmax(prediction)} \")\n",
    "    plt.imshow(img[0],cmap=plt.cm.binary)\n",
    "    plt.show()\n",
    "except:\n",
    "    print(\"Error\")\n",
    "    "
   ]
  },
  {
   "cell_type": "code",
   "execution_count": null,
   "id": "4ccaf9ce",
   "metadata": {},
   "outputs": [],
   "source": []
  }
 ],
 "metadata": {
  "kernelspec": {
   "display_name": "Python 3",
   "language": "python",
   "name": "python3"
  },
  "language_info": {
   "codemirror_mode": {
    "name": "ipython",
    "version": 3
   },
   "file_extension": ".py",
   "mimetype": "text/x-python",
   "name": "python",
   "nbconvert_exporter": "python",
   "pygments_lexer": "ipython3",
   "version": "3.8.8"
  }
 },
 "nbformat": 4,
 "nbformat_minor": 5
}
