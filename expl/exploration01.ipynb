{
 "cells": [
  {
   "cell_type": "code",
   "execution_count": 20,
   "id": "08804375",
   "metadata": {},
   "outputs": [
    {
     "ename": "ImportError",
     "evalue": "cannot import name 'dedent' from 'matplotlib.cbook' (C:\\Users\\AKSHAY KUMAR\\anaconda3\\lib\\site-packages\\matplotlib\\cbook\\__init__.py)",
     "output_type": "error",
     "traceback": [
      "\u001b[1;31m---------------------------------------------------------------------------\u001b[0m",
      "\u001b[1;31mImportError\u001b[0m                               Traceback (most recent call last)",
      "\u001b[1;32m<ipython-input-20-28026de30975>\u001b[0m in \u001b[0;36m<module>\u001b[1;34m\u001b[0m\n\u001b[0;32m      1\u001b[0m \u001b[1;32mimport\u001b[0m \u001b[0mnumpy\u001b[0m \u001b[1;32mas\u001b[0m \u001b[0mnp\u001b[0m\u001b[1;33m\u001b[0m\u001b[1;33m\u001b[0m\u001b[0m\n\u001b[0;32m      2\u001b[0m \u001b[1;32mimport\u001b[0m \u001b[0mpandas\u001b[0m \u001b[1;32mas\u001b[0m \u001b[0mpd\u001b[0m\u001b[1;33m\u001b[0m\u001b[1;33m\u001b[0m\u001b[0m\n\u001b[1;32m----> 3\u001b[1;33m \u001b[1;32mimport\u001b[0m \u001b[0mmatplotlib\u001b[0m\u001b[1;33m.\u001b[0m\u001b[0mpyplot\u001b[0m \u001b[1;32mas\u001b[0m \u001b[0mplt\u001b[0m\u001b[1;33m\u001b[0m\u001b[1;33m\u001b[0m\u001b[0m\n\u001b[0m\u001b[0;32m      4\u001b[0m \u001b[1;32mimport\u001b[0m \u001b[0mseaborn\u001b[0m \u001b[1;32mas\u001b[0m \u001b[0msns\u001b[0m\u001b[1;33m\u001b[0m\u001b[1;33m\u001b[0m\u001b[0m\n\u001b[0;32m      5\u001b[0m \u001b[1;32mfrom\u001b[0m \u001b[0mpandas\u001b[0m \u001b[1;32mimport\u001b[0m \u001b[0mDataFrame\u001b[0m\u001b[1;33m\u001b[0m\u001b[1;33m\u001b[0m\u001b[0m\n",
      "\u001b[1;32m~\\anaconda3\\lib\\site-packages\\matplotlib\\pyplot.py\u001b[0m in \u001b[0;36m<module>\u001b[1;34m\u001b[0m\n\u001b[0;32m     35\u001b[0m \u001b[1;32mfrom\u001b[0m \u001b[0mmatplotlib\u001b[0m \u001b[1;32mimport\u001b[0m \u001b[0m_pylab_helpers\u001b[0m\u001b[1;33m,\u001b[0m \u001b[0minteractive\u001b[0m\u001b[1;33m\u001b[0m\u001b[1;33m\u001b[0m\u001b[0m\n\u001b[0;32m     36\u001b[0m \u001b[1;32mfrom\u001b[0m \u001b[0mmatplotlib\u001b[0m \u001b[1;32mimport\u001b[0m \u001b[0mcbook\u001b[0m\u001b[1;33m\u001b[0m\u001b[1;33m\u001b[0m\u001b[0m\n\u001b[1;32m---> 37\u001b[1;33m \u001b[1;32mfrom\u001b[0m \u001b[0mmatplotlib\u001b[0m\u001b[1;33m.\u001b[0m\u001b[0mcbook\u001b[0m \u001b[1;32mimport\u001b[0m \u001b[0mdedent\u001b[0m\u001b[1;33m,\u001b[0m \u001b[0mdeprecated\u001b[0m\u001b[1;33m,\u001b[0m \u001b[0msilent_list\u001b[0m\u001b[1;33m,\u001b[0m \u001b[0mwarn_deprecated\u001b[0m\u001b[1;33m\u001b[0m\u001b[1;33m\u001b[0m\u001b[0m\n\u001b[0m\u001b[0;32m     38\u001b[0m \u001b[1;32mfrom\u001b[0m \u001b[0mmatplotlib\u001b[0m \u001b[1;32mimport\u001b[0m \u001b[0mdocstring\u001b[0m\u001b[1;33m\u001b[0m\u001b[1;33m\u001b[0m\u001b[0m\n\u001b[0;32m     39\u001b[0m \u001b[1;32mfrom\u001b[0m \u001b[0mmatplotlib\u001b[0m\u001b[1;33m.\u001b[0m\u001b[0mbackend_bases\u001b[0m \u001b[1;32mimport\u001b[0m \u001b[0mFigureCanvasBase\u001b[0m\u001b[1;33m\u001b[0m\u001b[1;33m\u001b[0m\u001b[0m\n",
      "\u001b[1;31mImportError\u001b[0m: cannot import name 'dedent' from 'matplotlib.cbook' (C:\\Users\\AKSHAY KUMAR\\anaconda3\\lib\\site-packages\\matplotlib\\cbook\\__init__.py)"
     ]
    }
   ],
   "source": [
    "import numpy as np\n",
    "import pandas as pd\n",
    "import matplotlib.pyplot as plt\n",
    "import seaborn as sns\n",
    "from pandas import DataFrame\n",
    "%matplotlib inline"
   ]
  },
  {
   "cell_type": "code",
   "execution_count": 12,
   "id": "ff93046f",
   "metadata": {},
   "outputs": [],
   "source": [
    "train_data = pd.read_csv(\"./train.csv\")"
   ]
  },
  {
   "cell_type": "code",
   "execution_count": 13,
   "id": "718549ee",
   "metadata": {},
   "outputs": [
    {
     "data": {
      "text/html": [
       "<div>\n",
       "<style scoped>\n",
       "    .dataframe tbody tr th:only-of-type {\n",
       "        vertical-align: middle;\n",
       "    }\n",
       "\n",
       "    .dataframe tbody tr th {\n",
       "        vertical-align: top;\n",
       "    }\n",
       "\n",
       "    .dataframe thead th {\n",
       "        text-align: right;\n",
       "    }\n",
       "</style>\n",
       "<table border=\"1\" class=\"dataframe\">\n",
       "  <thead>\n",
       "    <tr style=\"text-align: right;\">\n",
       "      <th></th>\n",
       "      <th>label</th>\n",
       "      <th>pixel0</th>\n",
       "      <th>pixel1</th>\n",
       "      <th>pixel2</th>\n",
       "      <th>pixel3</th>\n",
       "      <th>pixel4</th>\n",
       "      <th>pixel5</th>\n",
       "      <th>pixel6</th>\n",
       "      <th>pixel7</th>\n",
       "      <th>pixel8</th>\n",
       "      <th>...</th>\n",
       "      <th>pixel774</th>\n",
       "      <th>pixel775</th>\n",
       "      <th>pixel776</th>\n",
       "      <th>pixel777</th>\n",
       "      <th>pixel778</th>\n",
       "      <th>pixel779</th>\n",
       "      <th>pixel780</th>\n",
       "      <th>pixel781</th>\n",
       "      <th>pixel782</th>\n",
       "      <th>pixel783</th>\n",
       "    </tr>\n",
       "  </thead>\n",
       "  <tbody>\n",
       "    <tr>\n",
       "      <th>0</th>\n",
       "      <td>1</td>\n",
       "      <td>0</td>\n",
       "      <td>0</td>\n",
       "      <td>0</td>\n",
       "      <td>0</td>\n",
       "      <td>0</td>\n",
       "      <td>0</td>\n",
       "      <td>0</td>\n",
       "      <td>0</td>\n",
       "      <td>0</td>\n",
       "      <td>...</td>\n",
       "      <td>0</td>\n",
       "      <td>0</td>\n",
       "      <td>0</td>\n",
       "      <td>0</td>\n",
       "      <td>0</td>\n",
       "      <td>0</td>\n",
       "      <td>0</td>\n",
       "      <td>0</td>\n",
       "      <td>0</td>\n",
       "      <td>0</td>\n",
       "    </tr>\n",
       "    <tr>\n",
       "      <th>1</th>\n",
       "      <td>0</td>\n",
       "      <td>0</td>\n",
       "      <td>0</td>\n",
       "      <td>0</td>\n",
       "      <td>0</td>\n",
       "      <td>0</td>\n",
       "      <td>0</td>\n",
       "      <td>0</td>\n",
       "      <td>0</td>\n",
       "      <td>0</td>\n",
       "      <td>...</td>\n",
       "      <td>0</td>\n",
       "      <td>0</td>\n",
       "      <td>0</td>\n",
       "      <td>0</td>\n",
       "      <td>0</td>\n",
       "      <td>0</td>\n",
       "      <td>0</td>\n",
       "      <td>0</td>\n",
       "      <td>0</td>\n",
       "      <td>0</td>\n",
       "    </tr>\n",
       "    <tr>\n",
       "      <th>2</th>\n",
       "      <td>1</td>\n",
       "      <td>0</td>\n",
       "      <td>0</td>\n",
       "      <td>0</td>\n",
       "      <td>0</td>\n",
       "      <td>0</td>\n",
       "      <td>0</td>\n",
       "      <td>0</td>\n",
       "      <td>0</td>\n",
       "      <td>0</td>\n",
       "      <td>...</td>\n",
       "      <td>0</td>\n",
       "      <td>0</td>\n",
       "      <td>0</td>\n",
       "      <td>0</td>\n",
       "      <td>0</td>\n",
       "      <td>0</td>\n",
       "      <td>0</td>\n",
       "      <td>0</td>\n",
       "      <td>0</td>\n",
       "      <td>0</td>\n",
       "    </tr>\n",
       "    <tr>\n",
       "      <th>3</th>\n",
       "      <td>4</td>\n",
       "      <td>0</td>\n",
       "      <td>0</td>\n",
       "      <td>0</td>\n",
       "      <td>0</td>\n",
       "      <td>0</td>\n",
       "      <td>0</td>\n",
       "      <td>0</td>\n",
       "      <td>0</td>\n",
       "      <td>0</td>\n",
       "      <td>...</td>\n",
       "      <td>0</td>\n",
       "      <td>0</td>\n",
       "      <td>0</td>\n",
       "      <td>0</td>\n",
       "      <td>0</td>\n",
       "      <td>0</td>\n",
       "      <td>0</td>\n",
       "      <td>0</td>\n",
       "      <td>0</td>\n",
       "      <td>0</td>\n",
       "    </tr>\n",
       "    <tr>\n",
       "      <th>4</th>\n",
       "      <td>0</td>\n",
       "      <td>0</td>\n",
       "      <td>0</td>\n",
       "      <td>0</td>\n",
       "      <td>0</td>\n",
       "      <td>0</td>\n",
       "      <td>0</td>\n",
       "      <td>0</td>\n",
       "      <td>0</td>\n",
       "      <td>0</td>\n",
       "      <td>...</td>\n",
       "      <td>0</td>\n",
       "      <td>0</td>\n",
       "      <td>0</td>\n",
       "      <td>0</td>\n",
       "      <td>0</td>\n",
       "      <td>0</td>\n",
       "      <td>0</td>\n",
       "      <td>0</td>\n",
       "      <td>0</td>\n",
       "      <td>0</td>\n",
       "    </tr>\n",
       "  </tbody>\n",
       "</table>\n",
       "<p>5 rows × 785 columns</p>\n",
       "</div>"
      ],
      "text/plain": [
       "   label  pixel0  pixel1  pixel2  pixel3  pixel4  pixel5  pixel6  pixel7  \\\n",
       "0      1       0       0       0       0       0       0       0       0   \n",
       "1      0       0       0       0       0       0       0       0       0   \n",
       "2      1       0       0       0       0       0       0       0       0   \n",
       "3      4       0       0       0       0       0       0       0       0   \n",
       "4      0       0       0       0       0       0       0       0       0   \n",
       "\n",
       "   pixel8  ...  pixel774  pixel775  pixel776  pixel777  pixel778  pixel779  \\\n",
       "0       0  ...         0         0         0         0         0         0   \n",
       "1       0  ...         0         0         0         0         0         0   \n",
       "2       0  ...         0         0         0         0         0         0   \n",
       "3       0  ...         0         0         0         0         0         0   \n",
       "4       0  ...         0         0         0         0         0         0   \n",
       "\n",
       "   pixel780  pixel781  pixel782  pixel783  \n",
       "0         0         0         0         0  \n",
       "1         0         0         0         0  \n",
       "2         0         0         0         0  \n",
       "3         0         0         0         0  \n",
       "4         0         0         0         0  \n",
       "\n",
       "[5 rows x 785 columns]"
      ]
     },
     "execution_count": 13,
     "metadata": {},
     "output_type": "execute_result"
    }
   ],
   "source": [
    "train_data.head()"
   ]
  },
  {
   "cell_type": "code",
   "execution_count": 14,
   "id": "5f559758",
   "metadata": {},
   "outputs": [
    {
     "data": {
      "text/plain": [
       "(42000, 785)"
      ]
     },
     "execution_count": 14,
     "metadata": {},
     "output_type": "execute_result"
    }
   ],
   "source": [
    "train_data.shape"
   ]
  },
  {
   "cell_type": "code",
   "execution_count": null,
   "id": "c6c894e3",
   "metadata": {},
   "outputs": [],
   "source": [
    "model_train_data_unscaled = train_data.drop(['label'],axis=1)\n",
    "model_train_label = train_data['label']"
   ]
  },
  {
   "cell_type": "code",
   "execution_count": null,
   "id": "e44e9f04",
   "metadata": {},
   "outputs": [],
   "source": [
    "plt.imshow(np.array(model_train_data_unscaled.loc[10]).reshape(28,28), cmap='Greys')\n",
    "print(model_train_label[196])"
   ]
  },
  {
   "cell_type": "code",
   "execution_count": null,
   "id": "b0f27e9d",
   "metadata": {},
   "outputs": [],
   "source": [
    "from sklearn.preprocessing import MinMaxScaler\n",
    "std_scaler = MinMaxScaler()\n",
    "model_train_data = std_scaler.fit_transform(model_train_data_unscaled.astype(np.float64))"
   ]
  },
  {
   "cell_type": "code",
   "execution_count": null,
   "id": "f7697ba2",
   "metadata": {},
   "outputs": [],
   "source": [
    "from sklearn.model_selection import cross_val_score, cross_val_predict, GridSearchCV\n",
    "from sklearn.metrics import confusion_matrix, precision_score, recall_score, f1_score, roc_curve, roc_auc_score, precision_recall_curve\n",
    "\n",
    "def model_def(model, model_name, m_train_data, m_train_label):\n",
    "    model.fit(m_train_data, m_train_label)\n",
    "    s = \"predict_\"\n",
    "    p = s + model_name\n",
    "    p = model.predict(m_train_data)\n",
    "    cm = confusion_matrix(m_train_label, p)\n",
    "    precision = np.diag(cm)/np.sum(cm, axis=0)\n",
    "    recall    = np.diag(cm)/np.sum(cm, axis=1)\n",
    "    F1 = 2 * np.mean(precision) * np.mean(recall)/(np.mean(precision) + np.mean(recall))\n",
    "    cv_score = cross_val_score(model, m_train_data, m_train_label, cv=3, scoring='accuracy')\n",
    "    print(\"Precision Is      :\", np.mean(precision))\n",
    "    print(\"Recall Is         :\", np.mean(recall))\n",
    "    print(\"F1 Score IS       :\", F1)\n",
    "    print(\"Mean CV Score     :\", cv_score.mean())\n",
    "    print(\"Std Dev CV Score  :\", cv_score.std())"
   ]
  },
  {
   "cell_type": "code",
   "execution_count": null,
   "id": "59a3e238",
   "metadata": {},
   "outputs": [],
   "source": [
    "from sklearn.linear_model import LogisticRegression\n",
    "\n",
    "softmax = LogisticRegression(max_iter=1000, solver='lbfgs', multi_class='multinomial', C=0.05)\n",
    "model_def(softmax, \"softmax\", model_train_data, model_train_label)"
   ]
  },
  {
   "cell_type": "code",
   "execution_count": null,
   "id": "ecf82321",
   "metadata": {},
   "outputs": [],
   "source": [
    "from sklearn.decomposition import PCA \n",
    "\n",
    "pca = PCA(n_components = 200)\n",
    "model_train_data2D = pca.fit_transform(model_train_data)\n",
    "print(\"explained variance ratio : \", np.sum(pca.explained_variance_ratio_))"
   ]
  },
  {
   "cell_type": "code",
   "execution_count": null,
   "id": "919dcf5d",
   "metadata": {},
   "outputs": [],
   "source": [
    "from sklearn.svm import SVC\n",
    "\n",
    "poly6 = SVC( C=2, kernel='poly', degree=3, gamma='auto', random_state=42)\n",
    "model_def(poly6, \"poly6\", model_train_data2D, model_train_label)"
   ]
  },
  {
   "cell_type": "code",
   "execution_count": null,
   "id": "5d0399d1",
   "metadata": {},
   "outputs": [],
   "source": [
    "from keras.models import Sequential\n",
    "from keras.layers import Dense, Dropout\n",
    "from keras.wrappers.scikit_learn import KerasClassifier"
   ]
  },
  {
   "cell_type": "code",
   "execution_count": null,
   "id": "0c23ece6",
   "metadata": {},
   "outputs": [],
   "source": [
    "def build_classifier():\n",
    "    classifier = Sequential([Dense(128, kernel_initializer='random_uniform', activation='relu', input_shape=(200,)),\n",
    "                             Dropout(rate=0.2), \n",
    "                             Dense(128, kernel_initializer='random_uniform', activation='relu'), \n",
    "                             Dropout(rate=0.2),\n",
    "                             Dense(10,kernel_initializer='random_uniform',activation='softmax')])\n",
    "    classifier.compile(optimizer='adam', loss='sparse_categorical_crossentropy', metrics=['accuracy'])\n",
    "    return classifier\n",
    "\n",
    "ANN_classifier = KerasClassifier(build_fn = build_classifier, batch_size=100, epochs=20)\n",
    "ANN_classifier.fit(model_train_data2D, model_train_label)"
   ]
  },
  {
   "cell_type": "code",
   "execution_count": null,
   "id": "95d947fe",
   "metadata": {},
   "outputs": [],
   "source": [
    "cv_score = cross_val_score(ANN_classifier, model_train_data2D, model_train_label, cv=5, scoring='accuracy')\n",
    "print(\"Mean CV score is : \", cv_score.mean())"
   ]
  },
  {
   "cell_type": "markdown",
   "id": "7e670285",
   "metadata": {},
   "source": [
    "## testing data"
   ]
  },
  {
   "cell_type": "code",
   "execution_count": null,
   "id": "660dda51",
   "metadata": {},
   "outputs": [],
   "source": [
    "test_data = pd.read_csv(\"./test.csv\")\n",
    "\n",
    "model_test_data = std_scaler.transform(test_data.astype(np.float64))\n",
    "model_test_data2D = pca.transform(model_test_data)"
   ]
  },
  {
   "cell_type": "code",
   "execution_count": null,
   "id": "07750a7a",
   "metadata": {},
   "outputs": [],
   "source": [
    "predict_test_poly6 = poly6.predict(model_test_data2D)\n",
    "predict_test_softmax = softmax.predict(model_test_data)\n",
    "predict_test_ANN = ANN_classifier.predict(model_test_data2D)"
   ]
  },
  {
   "cell_type": "code",
   "execution_count": null,
   "id": "00cec33e",
   "metadata": {},
   "outputs": [],
   "source": [
    "Id = DataFrame(np.arange(1,28001))\n",
    "Id.columns = ['ImageId']\n",
    "\n",
    "prediction = DataFrame(predict_test_poly6)\n",
    "prediction.columns = ['Label']\n",
    "\n",
    "result = pd.concat([Id, prediction], axis=1)\n",
    "result.to_csv(\"Submission_poly.csv\", index=False)\n",
    "\n",
    "Id = DataFrame(np.arange(1,28001))\n",
    "Id.columns = ['ImageId']\n",
    "\n",
    "prediction = DataFrame(predict_test_softmax)\n",
    "prediction.columns = ['Label']\n",
    "\n",
    "result = pd.concat([Id, prediction], axis=1)\n",
    "result.to_csv(\"Submission_Softmax.csv\", index=False)\n",
    "\n",
    "Id = DataFrame(np.arange(1, 28001))\n",
    "Id.columns = ['imageId']\n",
    "\n",
    "prediction = DataFrame(predict_test_ANN)\n",
    "prediction.columns = ['Label']\n",
    "\n",
    "result = pd.concat([Id, prediction], axis=1)\n",
    "result.to_csv(\"Submission_ANN.csv\", index=False)"
   ]
  },
  {
   "cell_type": "markdown",
   "id": "ff4508ef",
   "metadata": {},
   "source": [
    "## CNN network"
   ]
  },
  {
   "cell_type": "code",
   "execution_count": null,
   "id": "e02bf1bc",
   "metadata": {},
   "outputs": [],
   "source": [
    "from keras.models import Sequential\n",
    "from keras.layers import Convolution2D\n",
    "from keras.layers import MaxPooling2D\n",
    "from keras.layers import Flatten\n",
    "from keras.layers import Dense, Dropout"
   ]
  },
  {
   "cell_type": "code",
   "execution_count": null,
   "id": "41cf0a3d",
   "metadata": {},
   "outputs": [],
   "source": [
    "X_train = np.array(model_train_data_unscaled).reshape(42000,28,28,1)\n",
    "y_train = model_train_label\n",
    "X_test = np.array(test_data).reshape(28000,28,28,1)"
   ]
  },
  {
   "cell_type": "code",
   "execution_count": null,
   "id": "f422a173",
   "metadata": {},
   "outputs": [],
   "source": [
    "CNN_model = Sequential([Convolution2D(filters=32, kernel_size=(3, 3), strides=(1, 1), input_shape=(28,28,1),\n",
    "                            padding='valid', activation='relu'),\n",
    "                         MaxPooling2D(pool_size=(2, 2)),\n",
    "                         Convolution2D(filters=32, kernel_size=(3, 3), strides=(1, 1),\n",
    "                            padding='valid', activation='relu'),\n",
    "                         MaxPooling2D(pool_size=(2, 2)),\n",
    "                         Flatten(),\n",
    "                         Dense(128, kernel_initializer='random_uniform', activation='relu'),\n",
    "                         Dropout(rate=0.2),\n",
    "                         Dense(128, kernel_initializer='random_uniform', activation='relu'),\n",
    "                         Dropout(rate=0.2),\n",
    "                         Dense(10, kernel_initializer='random_uniform', activation='softmax')])\n",
    "\n",
    "CNN_model.compile(optimizer='adam', loss='sparse_categorical_crossentropy', metrics=['accuracy'])\n",
    "\n",
    "CNN_model.fit(X_train, y_train, batch_size=100, epochs=20)"
   ]
  },
  {
   "cell_type": "code",
   "execution_count": null,
   "id": "426b3e19",
   "metadata": {},
   "outputs": [],
   "source": [
    "y_test = CNN_model.predict(X_test)\n",
    "y_test.shape"
   ]
  },
  {
   "cell_type": "code",
   "execution_count": null,
   "id": "35cc450c",
   "metadata": {},
   "outputs": [],
   "source": [
    "# locat = int(input(\"Enter position : \"))\n",
    "import matplotlib.image as mpimg\n",
    "img = mpimg.imread('nine.png')\n",
    "\n",
    "imgplot = plt.imshow(img)\n",
    "predict_test_CNN = np.argmax(y_test, axis=1)\n",
    "plt.imshow(np.array(imgplot).reshape(28, 28), cmap='Greys')\n",
    "print(predict_test_CNN[0])"
   ]
  },
  {
   "cell_type": "code",
   "execution_count": null,
   "id": "fb44b757",
   "metadata": {},
   "outputs": [],
   "source": []
  },
  {
   "cell_type": "code",
   "execution_count": null,
   "id": "7b38b364",
   "metadata": {},
   "outputs": [],
   "source": [
    "predict_test_CNN = np.argmax(y_test, axis=1)\n",
    "plt.imshow(np.array(test_data.loc[0]).reshape(28, 28), cmap='Greys')\n",
    "print(predict_test_CNN[0])"
   ]
  },
  {
   "cell_type": "code",
   "execution_count": null,
   "id": "b36deac2",
   "metadata": {},
   "outputs": [],
   "source": [
    "Id = DataFrame(np.arange(1,28001))\n",
    "Id.columns = ['ImageId']\n",
    "\n",
    "prediction = DataFrame(predict_test_CNN)\n",
    "prediction.columns = ['Label']\n",
    "\n",
    "result = pd.concat([Id, prediction], axis=1)\n",
    "result.to_csv(\"Submission_CNN.csv\", index=False)"
   ]
  },
  {
   "cell_type": "code",
   "execution_count": null,
   "id": "0d9301c1",
   "metadata": {},
   "outputs": [],
   "source": []
  },
  {
   "cell_type": "code",
   "execution_count": null,
   "id": "72a146c7",
   "metadata": {},
   "outputs": [],
   "source": []
  },
  {
   "cell_type": "code",
   "execution_count": null,
   "id": "ec58a564",
   "metadata": {},
   "outputs": [],
   "source": []
  }
 ],
 "metadata": {
  "kernelspec": {
   "display_name": "Python 3",
   "language": "python",
   "name": "python3"
  },
  "language_info": {
   "codemirror_mode": {
    "name": "ipython",
    "version": 3
   },
   "file_extension": ".py",
   "mimetype": "text/x-python",
   "name": "python",
   "nbconvert_exporter": "python",
   "pygments_lexer": "ipython3",
   "version": "3.8.8"
  }
 },
 "nbformat": 4,
 "nbformat_minor": 5
}
